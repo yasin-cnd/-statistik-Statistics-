{
 "cells": [
  {
   "cell_type": "code",
   "execution_count": 265,
   "id": "e61a84a2",
   "metadata": {},
   "outputs": [],
   "source": [
    "import numpy as np\n",
    "import pandas as pd\n",
    "import seaborn as sns\n",
    "import warnings\n",
    "warnings.filterwarnings(\"ignore\")"
   ]
  },
  {
   "cell_type": "markdown",
   "id": "4391d9df",
   "metadata": {},
   "source": [
    "<div style=\"text-align: center; background-color: #add8e6; padding: 10px;\">\n",
    "    <h1>Independent Data</h1>\n",
    "</div>\n"
   ]
  },
  {
   "cell_type": "markdown",
   "id": "884698f1",
   "metadata": {},
   "source": [
    "Example : As a result of three different diet applications, each of which includes 12 individuals, the weight reductions of the individuals are found below."
   ]
  },
  {
   "cell_type": "code",
   "execution_count": 266,
   "id": "f567e0f0",
   "metadata": {},
   "outputs": [
    {
     "name": "stdout",
     "output_type": "stream",
     "text": [
      "       A     B     C\n",
      "0    2.0  17.0  29.0\n",
      "1   12.0  15.0   3.0\n",
      "2    5.0   3.0  25.0\n",
      "3    4.0  19.0  28.0\n",
      "4   26.0   5.0  11.0\n",
      "5    8.0  14.0   7.0\n",
      "6   17.0   5.0   5.0\n",
      "7    4.0   6.0  25.0\n",
      "8   25.0  19.0  32.0\n",
      "9    6.0   4.0  24.0\n",
      "10  21.0   9.0  36.0\n",
      "11   6.0   7.0  20.0\n"
     ]
    }
   ],
   "source": [
    "data= {\n",
    "    \"A\": [2.00, 12.00, 5.00, 4.00, 26.00, 8.00, 17.00, 4.00, 25.00, 6.00, 21.00, 6.00],\n",
    "    \"B\": [17.00, 15.00, 3.00, 19.00, 5.00, 14.00, 5.00, 6.00, 19.00, 4.00, 9.00, 7.00],\n",
    "    \"C\": [29.00, 3.00, 25.00, 28.00, 11.00, 7.00, 5.00, 25.00, 32.00, 24.00, 36.00, 20.00]\n",
    "}\n",
    "\n",
    "df_independent = pd.DataFrame(data)\n",
    "print(df_independent)"
   ]
  },
  {
   "cell_type": "markdown",
   "id": "16ceacd9",
   "metadata": {},
   "source": [
    "Descriptive statistics"
   ]
  },
  {
   "cell_type": "code",
   "execution_count": 267,
   "id": "24ff7e38",
   "metadata": {},
   "outputs": [
    {
     "name": "stdout",
     "output_type": "stream",
     "text": [
      "               A          B          C\n",
      "count  12.000000  12.000000  12.000000\n",
      "mean   11.333333  10.250000  20.416667\n",
      "std     8.689945   6.121868  11.171867\n",
      "min     2.000000   3.000000   3.000000\n",
      "25%     4.750000   5.000000  10.000000\n",
      "50%     7.000000   8.000000  24.500000\n",
      "75%    18.000000  15.500000  28.250000\n",
      "max    26.000000  19.000000  36.000000\n"
     ]
    }
   ],
   "source": [
    "summary_statistics = df_independent.describe()\n",
    "print(summary_statistics)"
   ]
  },
  {
   "cell_type": "markdown",
   "id": "7d1e0e5d",
   "metadata": {},
   "source": [
    "Diet A has a higher mean than the others.\n",
    "\n",
    "The standard deviation of Diet B is lower than the others, which may indicate that the distribution is tighter.\n",
    "\n",
    "The minimum value of Diet C is higher than the other variables. This may indicate that Diet C has higher values overall."
   ]
  },
  {
   "cell_type": "markdown",
   "id": "1c9c5f70",
   "metadata": {},
   "source": [
    "GRAPHICS"
   ]
  },
  {
   "cell_type": "code",
   "execution_count": 268,
   "id": "511860b3",
   "metadata": {},
   "outputs": [
    {
     "data": {
      "application/vnd.plotly.v1+json": {
       "config": {
        "plotlyServerURL": "https://plot.ly"
       },
       "data": [
        {
         "name": "A Box Plot",
         "type": "box",
         "xaxis": "x",
         "y": [
          2,
          12,
          5,
          4,
          26,
          8,
          17,
          4,
          25,
          6,
          21,
          6
         ],
         "yaxis": "y"
        },
        {
         "name": "B Box Plot",
         "type": "box",
         "xaxis": "x",
         "y": [
          17,
          15,
          3,
          19,
          5,
          14,
          5,
          6,
          19,
          4,
          9,
          7
         ],
         "yaxis": "y"
        },
        {
         "name": "C Box Plot",
         "type": "box",
         "xaxis": "x",
         "y": [
          29,
          3,
          25,
          28,
          11,
          7,
          5,
          25,
          32,
          24,
          36,
          20
         ],
         "yaxis": "y"
        },
        {
         "name": "A Violin Plot",
         "type": "violin",
         "xaxis": "x2",
         "y": [
          2,
          12,
          5,
          4,
          26,
          8,
          17,
          4,
          25,
          6,
          21,
          6
         ],
         "yaxis": "y2"
        },
        {
         "name": "B Violin Plot",
         "type": "violin",
         "xaxis": "x2",
         "y": [
          17,
          15,
          3,
          19,
          5,
          14,
          5,
          6,
          19,
          4,
          9,
          7
         ],
         "yaxis": "y2"
        },
        {
         "name": "C Violin Plot",
         "type": "violin",
         "xaxis": "x2",
         "y": [
          29,
          3,
          25,
          28,
          11,
          7,
          5,
          25,
          32,
          24,
          36,
          20
         ],
         "yaxis": "y2"
        }
       ],
       "layout": {
        "annotations": [
         {
          "font": {
           "size": 16
          },
          "showarrow": false,
          "text": "Box Plots",
          "x": 0.5,
          "xanchor": "center",
          "xref": "paper",
          "y": 1,
          "yanchor": "bottom",
          "yref": "paper"
         },
         {
          "font": {
           "size": 16
          },
          "showarrow": false,
          "text": "Violin Plots",
          "x": 0.5,
          "xanchor": "center",
          "xref": "paper",
          "y": 0.375,
          "yanchor": "bottom",
          "yref": "paper"
         }
        ],
        "height": 600,
        "showlegend": false,
        "template": {
         "data": {
          "bar": [
           {
            "error_x": {
             "color": "#2a3f5f"
            },
            "error_y": {
             "color": "#2a3f5f"
            },
            "marker": {
             "line": {
              "color": "#E5ECF6",
              "width": 0.5
             },
             "pattern": {
              "fillmode": "overlay",
              "size": 10,
              "solidity": 0.2
             }
            },
            "type": "bar"
           }
          ],
          "barpolar": [
           {
            "marker": {
             "line": {
              "color": "#E5ECF6",
              "width": 0.5
             },
             "pattern": {
              "fillmode": "overlay",
              "size": 10,
              "solidity": 0.2
             }
            },
            "type": "barpolar"
           }
          ],
          "carpet": [
           {
            "aaxis": {
             "endlinecolor": "#2a3f5f",
             "gridcolor": "white",
             "linecolor": "white",
             "minorgridcolor": "white",
             "startlinecolor": "#2a3f5f"
            },
            "baxis": {
             "endlinecolor": "#2a3f5f",
             "gridcolor": "white",
             "linecolor": "white",
             "minorgridcolor": "white",
             "startlinecolor": "#2a3f5f"
            },
            "type": "carpet"
           }
          ],
          "choropleth": [
           {
            "colorbar": {
             "outlinewidth": 0,
             "ticks": ""
            },
            "type": "choropleth"
           }
          ],
          "contour": [
           {
            "colorbar": {
             "outlinewidth": 0,
             "ticks": ""
            },
            "colorscale": [
             [
              0,
              "#0d0887"
             ],
             [
              0.1111111111111111,
              "#46039f"
             ],
             [
              0.2222222222222222,
              "#7201a8"
             ],
             [
              0.3333333333333333,
              "#9c179e"
             ],
             [
              0.4444444444444444,
              "#bd3786"
             ],
             [
              0.5555555555555556,
              "#d8576b"
             ],
             [
              0.6666666666666666,
              "#ed7953"
             ],
             [
              0.7777777777777778,
              "#fb9f3a"
             ],
             [
              0.8888888888888888,
              "#fdca26"
             ],
             [
              1,
              "#f0f921"
             ]
            ],
            "type": "contour"
           }
          ],
          "contourcarpet": [
           {
            "colorbar": {
             "outlinewidth": 0,
             "ticks": ""
            },
            "type": "contourcarpet"
           }
          ],
          "heatmap": [
           {
            "colorbar": {
             "outlinewidth": 0,
             "ticks": ""
            },
            "colorscale": [
             [
              0,
              "#0d0887"
             ],
             [
              0.1111111111111111,
              "#46039f"
             ],
             [
              0.2222222222222222,
              "#7201a8"
             ],
             [
              0.3333333333333333,
              "#9c179e"
             ],
             [
              0.4444444444444444,
              "#bd3786"
             ],
             [
              0.5555555555555556,
              "#d8576b"
             ],
             [
              0.6666666666666666,
              "#ed7953"
             ],
             [
              0.7777777777777778,
              "#fb9f3a"
             ],
             [
              0.8888888888888888,
              "#fdca26"
             ],
             [
              1,
              "#f0f921"
             ]
            ],
            "type": "heatmap"
           }
          ],
          "heatmapgl": [
           {
            "colorbar": {
             "outlinewidth": 0,
             "ticks": ""
            },
            "colorscale": [
             [
              0,
              "#0d0887"
             ],
             [
              0.1111111111111111,
              "#46039f"
             ],
             [
              0.2222222222222222,
              "#7201a8"
             ],
             [
              0.3333333333333333,
              "#9c179e"
             ],
             [
              0.4444444444444444,
              "#bd3786"
             ],
             [
              0.5555555555555556,
              "#d8576b"
             ],
             [
              0.6666666666666666,
              "#ed7953"
             ],
             [
              0.7777777777777778,
              "#fb9f3a"
             ],
             [
              0.8888888888888888,
              "#fdca26"
             ],
             [
              1,
              "#f0f921"
             ]
            ],
            "type": "heatmapgl"
           }
          ],
          "histogram": [
           {
            "marker": {
             "pattern": {
              "fillmode": "overlay",
              "size": 10,
              "solidity": 0.2
             }
            },
            "type": "histogram"
           }
          ],
          "histogram2d": [
           {
            "colorbar": {
             "outlinewidth": 0,
             "ticks": ""
            },
            "colorscale": [
             [
              0,
              "#0d0887"
             ],
             [
              0.1111111111111111,
              "#46039f"
             ],
             [
              0.2222222222222222,
              "#7201a8"
             ],
             [
              0.3333333333333333,
              "#9c179e"
             ],
             [
              0.4444444444444444,
              "#bd3786"
             ],
             [
              0.5555555555555556,
              "#d8576b"
             ],
             [
              0.6666666666666666,
              "#ed7953"
             ],
             [
              0.7777777777777778,
              "#fb9f3a"
             ],
             [
              0.8888888888888888,
              "#fdca26"
             ],
             [
              1,
              "#f0f921"
             ]
            ],
            "type": "histogram2d"
           }
          ],
          "histogram2dcontour": [
           {
            "colorbar": {
             "outlinewidth": 0,
             "ticks": ""
            },
            "colorscale": [
             [
              0,
              "#0d0887"
             ],
             [
              0.1111111111111111,
              "#46039f"
             ],
             [
              0.2222222222222222,
              "#7201a8"
             ],
             [
              0.3333333333333333,
              "#9c179e"
             ],
             [
              0.4444444444444444,
              "#bd3786"
             ],
             [
              0.5555555555555556,
              "#d8576b"
             ],
             [
              0.6666666666666666,
              "#ed7953"
             ],
             [
              0.7777777777777778,
              "#fb9f3a"
             ],
             [
              0.8888888888888888,
              "#fdca26"
             ],
             [
              1,
              "#f0f921"
             ]
            ],
            "type": "histogram2dcontour"
           }
          ],
          "mesh3d": [
           {
            "colorbar": {
             "outlinewidth": 0,
             "ticks": ""
            },
            "type": "mesh3d"
           }
          ],
          "parcoords": [
           {
            "line": {
             "colorbar": {
              "outlinewidth": 0,
              "ticks": ""
             }
            },
            "type": "parcoords"
           }
          ],
          "pie": [
           {
            "automargin": true,
            "type": "pie"
           }
          ],
          "scatter": [
           {
            "marker": {
             "colorbar": {
              "outlinewidth": 0,
              "ticks": ""
             }
            },
            "type": "scatter"
           }
          ],
          "scatter3d": [
           {
            "line": {
             "colorbar": {
              "outlinewidth": 0,
              "ticks": ""
             }
            },
            "marker": {
             "colorbar": {
              "outlinewidth": 0,
              "ticks": ""
             }
            },
            "type": "scatter3d"
           }
          ],
          "scattercarpet": [
           {
            "marker": {
             "colorbar": {
              "outlinewidth": 0,
              "ticks": ""
             }
            },
            "type": "scattercarpet"
           }
          ],
          "scattergeo": [
           {
            "marker": {
             "colorbar": {
              "outlinewidth": 0,
              "ticks": ""
             }
            },
            "type": "scattergeo"
           }
          ],
          "scattergl": [
           {
            "marker": {
             "colorbar": {
              "outlinewidth": 0,
              "ticks": ""
             }
            },
            "type": "scattergl"
           }
          ],
          "scattermapbox": [
           {
            "marker": {
             "colorbar": {
              "outlinewidth": 0,
              "ticks": ""
             }
            },
            "type": "scattermapbox"
           }
          ],
          "scatterpolar": [
           {
            "marker": {
             "colorbar": {
              "outlinewidth": 0,
              "ticks": ""
             }
            },
            "type": "scatterpolar"
           }
          ],
          "scatterpolargl": [
           {
            "marker": {
             "colorbar": {
              "outlinewidth": 0,
              "ticks": ""
             }
            },
            "type": "scatterpolargl"
           }
          ],
          "scatterternary": [
           {
            "marker": {
             "colorbar": {
              "outlinewidth": 0,
              "ticks": ""
             }
            },
            "type": "scatterternary"
           }
          ],
          "surface": [
           {
            "colorbar": {
             "outlinewidth": 0,
             "ticks": ""
            },
            "colorscale": [
             [
              0,
              "#0d0887"
             ],
             [
              0.1111111111111111,
              "#46039f"
             ],
             [
              0.2222222222222222,
              "#7201a8"
             ],
             [
              0.3333333333333333,
              "#9c179e"
             ],
             [
              0.4444444444444444,
              "#bd3786"
             ],
             [
              0.5555555555555556,
              "#d8576b"
             ],
             [
              0.6666666666666666,
              "#ed7953"
             ],
             [
              0.7777777777777778,
              "#fb9f3a"
             ],
             [
              0.8888888888888888,
              "#fdca26"
             ],
             [
              1,
              "#f0f921"
             ]
            ],
            "type": "surface"
           }
          ],
          "table": [
           {
            "cells": {
             "fill": {
              "color": "#EBF0F8"
             },
             "line": {
              "color": "white"
             }
            },
            "header": {
             "fill": {
              "color": "#C8D4E3"
             },
             "line": {
              "color": "white"
             }
            },
            "type": "table"
           }
          ]
         },
         "layout": {
          "annotationdefaults": {
           "arrowcolor": "#2a3f5f",
           "arrowhead": 0,
           "arrowwidth": 1
          },
          "autotypenumbers": "strict",
          "coloraxis": {
           "colorbar": {
            "outlinewidth": 0,
            "ticks": ""
           }
          },
          "colorscale": {
           "diverging": [
            [
             0,
             "#8e0152"
            ],
            [
             0.1,
             "#c51b7d"
            ],
            [
             0.2,
             "#de77ae"
            ],
            [
             0.3,
             "#f1b6da"
            ],
            [
             0.4,
             "#fde0ef"
            ],
            [
             0.5,
             "#f7f7f7"
            ],
            [
             0.6,
             "#e6f5d0"
            ],
            [
             0.7,
             "#b8e186"
            ],
            [
             0.8,
             "#7fbc41"
            ],
            [
             0.9,
             "#4d9221"
            ],
            [
             1,
             "#276419"
            ]
           ],
           "sequential": [
            [
             0,
             "#0d0887"
            ],
            [
             0.1111111111111111,
             "#46039f"
            ],
            [
             0.2222222222222222,
             "#7201a8"
            ],
            [
             0.3333333333333333,
             "#9c179e"
            ],
            [
             0.4444444444444444,
             "#bd3786"
            ],
            [
             0.5555555555555556,
             "#d8576b"
            ],
            [
             0.6666666666666666,
             "#ed7953"
            ],
            [
             0.7777777777777778,
             "#fb9f3a"
            ],
            [
             0.8888888888888888,
             "#fdca26"
            ],
            [
             1,
             "#f0f921"
            ]
           ],
           "sequentialminus": [
            [
             0,
             "#0d0887"
            ],
            [
             0.1111111111111111,
             "#46039f"
            ],
            [
             0.2222222222222222,
             "#7201a8"
            ],
            [
             0.3333333333333333,
             "#9c179e"
            ],
            [
             0.4444444444444444,
             "#bd3786"
            ],
            [
             0.5555555555555556,
             "#d8576b"
            ],
            [
             0.6666666666666666,
             "#ed7953"
            ],
            [
             0.7777777777777778,
             "#fb9f3a"
            ],
            [
             0.8888888888888888,
             "#fdca26"
            ],
            [
             1,
             "#f0f921"
            ]
           ]
          },
          "colorway": [
           "#636efa",
           "#EF553B",
           "#00cc96",
           "#ab63fa",
           "#FFA15A",
           "#19d3f3",
           "#FF6692",
           "#B6E880",
           "#FF97FF",
           "#FECB52"
          ],
          "font": {
           "color": "#2a3f5f"
          },
          "geo": {
           "bgcolor": "white",
           "lakecolor": "white",
           "landcolor": "#E5ECF6",
           "showlakes": true,
           "showland": true,
           "subunitcolor": "white"
          },
          "hoverlabel": {
           "align": "left"
          },
          "hovermode": "closest",
          "mapbox": {
           "style": "light"
          },
          "paper_bgcolor": "white",
          "plot_bgcolor": "#E5ECF6",
          "polar": {
           "angularaxis": {
            "gridcolor": "white",
            "linecolor": "white",
            "ticks": ""
           },
           "bgcolor": "#E5ECF6",
           "radialaxis": {
            "gridcolor": "white",
            "linecolor": "white",
            "ticks": ""
           }
          },
          "scene": {
           "xaxis": {
            "backgroundcolor": "#E5ECF6",
            "gridcolor": "white",
            "gridwidth": 2,
            "linecolor": "white",
            "showbackground": true,
            "ticks": "",
            "zerolinecolor": "white"
           },
           "yaxis": {
            "backgroundcolor": "#E5ECF6",
            "gridcolor": "white",
            "gridwidth": 2,
            "linecolor": "white",
            "showbackground": true,
            "ticks": "",
            "zerolinecolor": "white"
           },
           "zaxis": {
            "backgroundcolor": "#E5ECF6",
            "gridcolor": "white",
            "gridwidth": 2,
            "linecolor": "white",
            "showbackground": true,
            "ticks": "",
            "zerolinecolor": "white"
           }
          },
          "shapedefaults": {
           "line": {
            "color": "#2a3f5f"
           }
          },
          "ternary": {
           "aaxis": {
            "gridcolor": "white",
            "linecolor": "white",
            "ticks": ""
           },
           "baxis": {
            "gridcolor": "white",
            "linecolor": "white",
            "ticks": ""
           },
           "bgcolor": "#E5ECF6",
           "caxis": {
            "gridcolor": "white",
            "linecolor": "white",
            "ticks": ""
           }
          },
          "title": {
           "x": 0.05
          },
          "xaxis": {
           "automargin": true,
           "gridcolor": "white",
           "linecolor": "white",
           "ticks": "",
           "title": {
            "standoff": 15
           },
           "zerolinecolor": "white",
           "zerolinewidth": 2
          },
          "yaxis": {
           "automargin": true,
           "gridcolor": "white",
           "linecolor": "white",
           "ticks": "",
           "title": {
            "standoff": 15
           },
           "zerolinecolor": "white",
           "zerolinewidth": 2
          }
         }
        },
        "title": {
         "text": "Box Plots and Violin Plots"
        },
        "width": 800,
        "xaxis": {
         "anchor": "y",
         "domain": [
          0,
          1
         ]
        },
        "xaxis2": {
         "anchor": "y2",
         "domain": [
          0,
          1
         ]
        },
        "yaxis": {
         "anchor": "x",
         "domain": [
          0.625,
          1
         ]
        },
        "yaxis2": {
         "anchor": "x2",
         "domain": [
          0,
          0.375
         ]
        }
       }
      },
      "text/html": [
       "<div>                            <div id=\"d8d5341b-3dd1-4e7b-a02c-8ca53ad49c70\" class=\"plotly-graph-div\" style=\"height:600px; width:800px;\"></div>            <script type=\"text/javascript\">                require([\"plotly\"], function(Plotly) {                    window.PLOTLYENV=window.PLOTLYENV || {};                                    if (document.getElementById(\"d8d5341b-3dd1-4e7b-a02c-8ca53ad49c70\")) {                    Plotly.newPlot(                        \"d8d5341b-3dd1-4e7b-a02c-8ca53ad49c70\",                        [{\"name\":\"A Box Plot\",\"y\":[2.0,12.0,5.0,4.0,26.0,8.0,17.0,4.0,25.0,6.0,21.0,6.0],\"type\":\"box\",\"xaxis\":\"x\",\"yaxis\":\"y\"},{\"name\":\"B Box Plot\",\"y\":[17.0,15.0,3.0,19.0,5.0,14.0,5.0,6.0,19.0,4.0,9.0,7.0],\"type\":\"box\",\"xaxis\":\"x\",\"yaxis\":\"y\"},{\"name\":\"C Box Plot\",\"y\":[29.0,3.0,25.0,28.0,11.0,7.0,5.0,25.0,32.0,24.0,36.0,20.0],\"type\":\"box\",\"xaxis\":\"x\",\"yaxis\":\"y\"},{\"name\":\"A Violin Plot\",\"y\":[2.0,12.0,5.0,4.0,26.0,8.0,17.0,4.0,25.0,6.0,21.0,6.0],\"type\":\"violin\",\"xaxis\":\"x2\",\"yaxis\":\"y2\"},{\"name\":\"B Violin Plot\",\"y\":[17.0,15.0,3.0,19.0,5.0,14.0,5.0,6.0,19.0,4.0,9.0,7.0],\"type\":\"violin\",\"xaxis\":\"x2\",\"yaxis\":\"y2\"},{\"name\":\"C Violin Plot\",\"y\":[29.0,3.0,25.0,28.0,11.0,7.0,5.0,25.0,32.0,24.0,36.0,20.0],\"type\":\"violin\",\"xaxis\":\"x2\",\"yaxis\":\"y2\"}],                        {\"template\":{\"data\":{\"bar\":[{\"error_x\":{\"color\":\"#2a3f5f\"},\"error_y\":{\"color\":\"#2a3f5f\"},\"marker\":{\"line\":{\"color\":\"#E5ECF6\",\"width\":0.5},\"pattern\":{\"fillmode\":\"overlay\",\"size\":10,\"solidity\":0.2}},\"type\":\"bar\"}],\"barpolar\":[{\"marker\":{\"line\":{\"color\":\"#E5ECF6\",\"width\":0.5},\"pattern\":{\"fillmode\":\"overlay\",\"size\":10,\"solidity\":0.2}},\"type\":\"barpolar\"}],\"carpet\":[{\"aaxis\":{\"endlinecolor\":\"#2a3f5f\",\"gridcolor\":\"white\",\"linecolor\":\"white\",\"minorgridcolor\":\"white\",\"startlinecolor\":\"#2a3f5f\"},\"baxis\":{\"endlinecolor\":\"#2a3f5f\",\"gridcolor\":\"white\",\"linecolor\":\"white\",\"minorgridcolor\":\"white\",\"startlinecolor\":\"#2a3f5f\"},\"type\":\"carpet\"}],\"choropleth\":[{\"colorbar\":{\"outlinewidth\":0,\"ticks\":\"\"},\"type\":\"choropleth\"}],\"contour\":[{\"colorbar\":{\"outlinewidth\":0,\"ticks\":\"\"},\"colorscale\":[[0.0,\"#0d0887\"],[0.1111111111111111,\"#46039f\"],[0.2222222222222222,\"#7201a8\"],[0.3333333333333333,\"#9c179e\"],[0.4444444444444444,\"#bd3786\"],[0.5555555555555556,\"#d8576b\"],[0.6666666666666666,\"#ed7953\"],[0.7777777777777778,\"#fb9f3a\"],[0.8888888888888888,\"#fdca26\"],[1.0,\"#f0f921\"]],\"type\":\"contour\"}],\"contourcarpet\":[{\"colorbar\":{\"outlinewidth\":0,\"ticks\":\"\"},\"type\":\"contourcarpet\"}],\"heatmap\":[{\"colorbar\":{\"outlinewidth\":0,\"ticks\":\"\"},\"colorscale\":[[0.0,\"#0d0887\"],[0.1111111111111111,\"#46039f\"],[0.2222222222222222,\"#7201a8\"],[0.3333333333333333,\"#9c179e\"],[0.4444444444444444,\"#bd3786\"],[0.5555555555555556,\"#d8576b\"],[0.6666666666666666,\"#ed7953\"],[0.7777777777777778,\"#fb9f3a\"],[0.8888888888888888,\"#fdca26\"],[1.0,\"#f0f921\"]],\"type\":\"heatmap\"}],\"heatmapgl\":[{\"colorbar\":{\"outlinewidth\":0,\"ticks\":\"\"},\"colorscale\":[[0.0,\"#0d0887\"],[0.1111111111111111,\"#46039f\"],[0.2222222222222222,\"#7201a8\"],[0.3333333333333333,\"#9c179e\"],[0.4444444444444444,\"#bd3786\"],[0.5555555555555556,\"#d8576b\"],[0.6666666666666666,\"#ed7953\"],[0.7777777777777778,\"#fb9f3a\"],[0.8888888888888888,\"#fdca26\"],[1.0,\"#f0f921\"]],\"type\":\"heatmapgl\"}],\"histogram\":[{\"marker\":{\"pattern\":{\"fillmode\":\"overlay\",\"size\":10,\"solidity\":0.2}},\"type\":\"histogram\"}],\"histogram2d\":[{\"colorbar\":{\"outlinewidth\":0,\"ticks\":\"\"},\"colorscale\":[[0.0,\"#0d0887\"],[0.1111111111111111,\"#46039f\"],[0.2222222222222222,\"#7201a8\"],[0.3333333333333333,\"#9c179e\"],[0.4444444444444444,\"#bd3786\"],[0.5555555555555556,\"#d8576b\"],[0.6666666666666666,\"#ed7953\"],[0.7777777777777778,\"#fb9f3a\"],[0.8888888888888888,\"#fdca26\"],[1.0,\"#f0f921\"]],\"type\":\"histogram2d\"}],\"histogram2dcontour\":[{\"colorbar\":{\"outlinewidth\":0,\"ticks\":\"\"},\"colorscale\":[[0.0,\"#0d0887\"],[0.1111111111111111,\"#46039f\"],[0.2222222222222222,\"#7201a8\"],[0.3333333333333333,\"#9c179e\"],[0.4444444444444444,\"#bd3786\"],[0.5555555555555556,\"#d8576b\"],[0.6666666666666666,\"#ed7953\"],[0.7777777777777778,\"#fb9f3a\"],[0.8888888888888888,\"#fdca26\"],[1.0,\"#f0f921\"]],\"type\":\"histogram2dcontour\"}],\"mesh3d\":[{\"colorbar\":{\"outlinewidth\":0,\"ticks\":\"\"},\"type\":\"mesh3d\"}],\"parcoords\":[{\"line\":{\"colorbar\":{\"outlinewidth\":0,\"ticks\":\"\"}},\"type\":\"parcoords\"}],\"pie\":[{\"automargin\":true,\"type\":\"pie\"}],\"scatter\":[{\"marker\":{\"colorbar\":{\"outlinewidth\":0,\"ticks\":\"\"}},\"type\":\"scatter\"}],\"scatter3d\":[{\"line\":{\"colorbar\":{\"outlinewidth\":0,\"ticks\":\"\"}},\"marker\":{\"colorbar\":{\"outlinewidth\":0,\"ticks\":\"\"}},\"type\":\"scatter3d\"}],\"scattercarpet\":[{\"marker\":{\"colorbar\":{\"outlinewidth\":0,\"ticks\":\"\"}},\"type\":\"scattercarpet\"}],\"scattergeo\":[{\"marker\":{\"colorbar\":{\"outlinewidth\":0,\"ticks\":\"\"}},\"type\":\"scattergeo\"}],\"scattergl\":[{\"marker\":{\"colorbar\":{\"outlinewidth\":0,\"ticks\":\"\"}},\"type\":\"scattergl\"}],\"scattermapbox\":[{\"marker\":{\"colorbar\":{\"outlinewidth\":0,\"ticks\":\"\"}},\"type\":\"scattermapbox\"}],\"scatterpolar\":[{\"marker\":{\"colorbar\":{\"outlinewidth\":0,\"ticks\":\"\"}},\"type\":\"scatterpolar\"}],\"scatterpolargl\":[{\"marker\":{\"colorbar\":{\"outlinewidth\":0,\"ticks\":\"\"}},\"type\":\"scatterpolargl\"}],\"scatterternary\":[{\"marker\":{\"colorbar\":{\"outlinewidth\":0,\"ticks\":\"\"}},\"type\":\"scatterternary\"}],\"surface\":[{\"colorbar\":{\"outlinewidth\":0,\"ticks\":\"\"},\"colorscale\":[[0.0,\"#0d0887\"],[0.1111111111111111,\"#46039f\"],[0.2222222222222222,\"#7201a8\"],[0.3333333333333333,\"#9c179e\"],[0.4444444444444444,\"#bd3786\"],[0.5555555555555556,\"#d8576b\"],[0.6666666666666666,\"#ed7953\"],[0.7777777777777778,\"#fb9f3a\"],[0.8888888888888888,\"#fdca26\"],[1.0,\"#f0f921\"]],\"type\":\"surface\"}],\"table\":[{\"cells\":{\"fill\":{\"color\":\"#EBF0F8\"},\"line\":{\"color\":\"white\"}},\"header\":{\"fill\":{\"color\":\"#C8D4E3\"},\"line\":{\"color\":\"white\"}},\"type\":\"table\"}]},\"layout\":{\"annotationdefaults\":{\"arrowcolor\":\"#2a3f5f\",\"arrowhead\":0,\"arrowwidth\":1},\"autotypenumbers\":\"strict\",\"coloraxis\":{\"colorbar\":{\"outlinewidth\":0,\"ticks\":\"\"}},\"colorscale\":{\"diverging\":[[0,\"#8e0152\"],[0.1,\"#c51b7d\"],[0.2,\"#de77ae\"],[0.3,\"#f1b6da\"],[0.4,\"#fde0ef\"],[0.5,\"#f7f7f7\"],[0.6,\"#e6f5d0\"],[0.7,\"#b8e186\"],[0.8,\"#7fbc41\"],[0.9,\"#4d9221\"],[1,\"#276419\"]],\"sequential\":[[0.0,\"#0d0887\"],[0.1111111111111111,\"#46039f\"],[0.2222222222222222,\"#7201a8\"],[0.3333333333333333,\"#9c179e\"],[0.4444444444444444,\"#bd3786\"],[0.5555555555555556,\"#d8576b\"],[0.6666666666666666,\"#ed7953\"],[0.7777777777777778,\"#fb9f3a\"],[0.8888888888888888,\"#fdca26\"],[1.0,\"#f0f921\"]],\"sequentialminus\":[[0.0,\"#0d0887\"],[0.1111111111111111,\"#46039f\"],[0.2222222222222222,\"#7201a8\"],[0.3333333333333333,\"#9c179e\"],[0.4444444444444444,\"#bd3786\"],[0.5555555555555556,\"#d8576b\"],[0.6666666666666666,\"#ed7953\"],[0.7777777777777778,\"#fb9f3a\"],[0.8888888888888888,\"#fdca26\"],[1.0,\"#f0f921\"]]},\"colorway\":[\"#636efa\",\"#EF553B\",\"#00cc96\",\"#ab63fa\",\"#FFA15A\",\"#19d3f3\",\"#FF6692\",\"#B6E880\",\"#FF97FF\",\"#FECB52\"],\"font\":{\"color\":\"#2a3f5f\"},\"geo\":{\"bgcolor\":\"white\",\"lakecolor\":\"white\",\"landcolor\":\"#E5ECF6\",\"showlakes\":true,\"showland\":true,\"subunitcolor\":\"white\"},\"hoverlabel\":{\"align\":\"left\"},\"hovermode\":\"closest\",\"mapbox\":{\"style\":\"light\"},\"paper_bgcolor\":\"white\",\"plot_bgcolor\":\"#E5ECF6\",\"polar\":{\"angularaxis\":{\"gridcolor\":\"white\",\"linecolor\":\"white\",\"ticks\":\"\"},\"bgcolor\":\"#E5ECF6\",\"radialaxis\":{\"gridcolor\":\"white\",\"linecolor\":\"white\",\"ticks\":\"\"}},\"scene\":{\"xaxis\":{\"backgroundcolor\":\"#E5ECF6\",\"gridcolor\":\"white\",\"gridwidth\":2,\"linecolor\":\"white\",\"showbackground\":true,\"ticks\":\"\",\"zerolinecolor\":\"white\"},\"yaxis\":{\"backgroundcolor\":\"#E5ECF6\",\"gridcolor\":\"white\",\"gridwidth\":2,\"linecolor\":\"white\",\"showbackground\":true,\"ticks\":\"\",\"zerolinecolor\":\"white\"},\"zaxis\":{\"backgroundcolor\":\"#E5ECF6\",\"gridcolor\":\"white\",\"gridwidth\":2,\"linecolor\":\"white\",\"showbackground\":true,\"ticks\":\"\",\"zerolinecolor\":\"white\"}},\"shapedefaults\":{\"line\":{\"color\":\"#2a3f5f\"}},\"ternary\":{\"aaxis\":{\"gridcolor\":\"white\",\"linecolor\":\"white\",\"ticks\":\"\"},\"baxis\":{\"gridcolor\":\"white\",\"linecolor\":\"white\",\"ticks\":\"\"},\"bgcolor\":\"#E5ECF6\",\"caxis\":{\"gridcolor\":\"white\",\"linecolor\":\"white\",\"ticks\":\"\"}},\"title\":{\"x\":0.05},\"xaxis\":{\"automargin\":true,\"gridcolor\":\"white\",\"linecolor\":\"white\",\"ticks\":\"\",\"title\":{\"standoff\":15},\"zerolinecolor\":\"white\",\"zerolinewidth\":2},\"yaxis\":{\"automargin\":true,\"gridcolor\":\"white\",\"linecolor\":\"white\",\"ticks\":\"\",\"title\":{\"standoff\":15},\"zerolinecolor\":\"white\",\"zerolinewidth\":2}}},\"xaxis\":{\"anchor\":\"y\",\"domain\":[0.0,1.0]},\"yaxis\":{\"anchor\":\"x\",\"domain\":[0.625,1.0]},\"xaxis2\":{\"anchor\":\"y2\",\"domain\":[0.0,1.0]},\"yaxis2\":{\"anchor\":\"x2\",\"domain\":[0.0,0.375]},\"annotations\":[{\"font\":{\"size\":16},\"showarrow\":false,\"text\":\"Box Plots\",\"x\":0.5,\"xanchor\":\"center\",\"xref\":\"paper\",\"y\":1.0,\"yanchor\":\"bottom\",\"yref\":\"paper\"},{\"font\":{\"size\":16},\"showarrow\":false,\"text\":\"Violin Plots\",\"x\":0.5,\"xanchor\":\"center\",\"xref\":\"paper\",\"y\":0.375,\"yanchor\":\"bottom\",\"yref\":\"paper\"}],\"title\":{\"text\":\"Box Plots and Violin Plots\"},\"height\":600,\"width\":800,\"showlegend\":false},                        {\"responsive\": true}                    ).then(function(){\n",
       "                            \n",
       "var gd = document.getElementById('d8d5341b-3dd1-4e7b-a02c-8ca53ad49c70');\n",
       "var x = new MutationObserver(function (mutations, observer) {{\n",
       "        var display = window.getComputedStyle(gd).display;\n",
       "        if (!display || display === 'none') {{\n",
       "            console.log([gd, 'removed!']);\n",
       "            Plotly.purge(gd);\n",
       "            observer.disconnect();\n",
       "        }}\n",
       "}});\n",
       "\n",
       "// Listen for the removal of the full notebook cells\n",
       "var notebookContainer = gd.closest('#notebook-container');\n",
       "if (notebookContainer) {{\n",
       "    x.observe(notebookContainer, {childList: true});\n",
       "}}\n",
       "\n",
       "// Listen for the clearing of the current output cell\n",
       "var outputEl = gd.closest('.output');\n",
       "if (outputEl) {{\n",
       "    x.observe(outputEl, {childList: true});\n",
       "}}\n",
       "\n",
       "                        })                };                });            </script>        </div>"
      ]
     },
     "metadata": {},
     "output_type": "display_data"
    },
    {
     "data": {
      "image/png": "[encoded data removed]",
      "text/plain": [
       "<Figure size 1080x360 with 3 Axes>"
      ]
     },
     "metadata": {
      "needs_background": "light"
     },
     "output_type": "display_data"
    }
   ],
   "source": [
    "import plotly.express as px\n",
    "import pandas as pd\n",
    "from plotly.subplots import make_subplots\n",
    "import plotly.graph_objects as go\n",
    "import matplotlib.pyplot as plt\n",
    "from scipy import stats\n",
    "\n",
    "df = pd.DataFrame(df_independent)\n",
    "\n",
    "fig = make_subplots(rows=2, cols=1, subplot_titles=(\"Box Plots\", \"Violin Plots\"))\n",
    "\n",
    "for column in df.columns:\n",
    "    box_trace = go.Box(y=df[column], name=f'{column} Box Plot')\n",
    "    fig.add_trace(box_trace, row=1, col=1)\n",
    "\n",
    "for column in df.columns:\n",
    "    violin_trace = go.Violin(y=df[column], name=f'{column} Violin Plot')\n",
    "    fig.add_trace(violin_trace, row=2, col=1)\n",
    "\n",
    "fig.update_layout(height=600, width=800, showlegend=False, title_text=\"Box Plots and Violin Plots\")\n",
    "fig.show()\n",
    "\n",
    "\n",
    "df = pd.DataFrame(data)\n",
    "fig, axes = plt.subplots(nrows=1, ncols=len(df.columns), figsize=(15, 5))\n",
    "\n",
    "for i, column in enumerate(df.columns):\n",
    "    _, (slope, intercept, r) = stats.probplot(df[column], plot=axes[i], fit=True)\n",
    "    axes[i].set_title(f'QQ Plot - {column}')\n",
    "\n",
    "    for j, val in enumerate(df[column].sample(5)):\n",
    "        axes[i].annotate(f'{val:.2f}', xy=(val, slope * val + intercept),\n",
    "                         xytext=(-15, 7), textcoords='offset points', ha='center', va='bottom', fontsize=8)\n",
    "\n",
    "plt.tight_layout()\n",
    "plt.show()"
   ]
  },
  {
   "cell_type": "code",
   "execution_count": null,
   "id": "ac508685",
   "metadata": {},
   "outputs": [],
   "source": []
  },
  {
   "cell_type": "markdown",
   "id": "a3054987",
   "metadata": {},
   "source": [
    "ASSUMPTION OF NORMALITY"
   ]
  },
  {
   "cell_type": "code",
   "execution_count": 269,
   "id": "a8fa67cd",
   "metadata": {},
   "outputs": [
    {
     "name": "stdout",
     "output_type": "stream",
     "text": [
      "Null Hypothesis (H0): The data set is normally distributed.\n",
      "Alternative Hypothesis (H1): The data set is not normally distributed.\n",
      "\n",
      "\n",
      "Shapiro-Wilk test for column 'A':\n",
      "   Null Hypothesis (H0): The data set is normally distributed.\n",
      "   Alternative Hypothesis (H1): The data set is not normally distributed.\n",
      "   Result: p-value = 0.0409. Reject the null hypothesis. The data set is not normally distributed.\n",
      "\n",
      "Shapiro-Wilk test for column 'B':\n",
      "   Null Hypothesis (H0): The data set is normally distributed.\n",
      "   Alternative Hypothesis (H1): The data set is not normally distributed.\n",
      "   Result: p-value = 0.0676. Fail to reject the null hypothesis. The data set is normally distributed.\n",
      "\n",
      "Shapiro-Wilk test for column 'C':\n",
      "   Null Hypothesis (H0): The data set is normally distributed.\n",
      "   Alternative Hypothesis (H1): The data set is not normally distributed.\n",
      "   Result: p-value = 0.2308. Fail to reject the null hypothesis. The data set is normally distributed.\n"
     ]
    }
   ],
   "source": [
    "import pandas as pd\n",
    "from scipy.stats import shapiro\n",
    "\n",
    "print(\"Null Hypothesis (H0): The data set is normally distributed.\")\n",
    "print(\"Alternative Hypothesis (H1): The data set is not normally distributed.\\n\")\n",
    "\n",
    "alpha = 0.05\n",
    "\n",
    "for column in df_independent.columns:\n",
    "    statistic, p_value = shapiro(df[column])\n",
    "    print(f\"\\nShapiro-Wilk test for column '{column}':\\n\"\n",
    "          f\"   Null Hypothesis (H0): The data set is normally distributed.\\n\"\n",
    "          f\"   Alternative Hypothesis (H1): The data set is not normally distributed.\")\n",
    "\n",
    "    if p_value < alpha:\n",
    "        print(f\"   Result: p-value = {p_value:.4f}. Reject the null hypothesis. The data set is not normally distributed.\")\n",
    "    else:\n",
    "        print(f\"   Result: p-value = {p_value:.4f}. Fail to reject the null hypothesis. The data set is normally distributed.\")\n"
   ]
  },
  {
   "cell_type": "markdown",
   "id": "7cad18a3",
   "metadata": {},
   "source": [
    "H0 cannot be rejected because P-value: 0.0409<0.05 at 95% confidence interval in diet A. The data set is not normally distributed.\n",
    "    \n",
    "Nonparametric tests will be preferred."
   ]
  },
  {
   "cell_type": "code",
   "execution_count": null,
   "id": "95798e31",
   "metadata": {},
   "outputs": [],
   "source": []
  },
  {
   "cell_type": "markdown",
   "id": "10fbfa03",
   "metadata": {},
   "source": [
    "<div style=\"text-align: center; background-color: #add8e6; padding: 10px;\">\n",
    "    <h1>Dependent Data</h1>\n",
    "</div>\n"
   ]
  },
  {
   "cell_type": "markdown",
   "id": "4e1e561d",
   "metadata": {},
   "source": [
    "Example : Seven stores are selected for a marketing research. In each store, five different brands new type of hand lotion side by side. The number of bottles of lotion sold for each brand at the end of the week is as follows \n",
    "tabulated with the results."
   ]
  },
  {
   "cell_type": "code",
   "execution_count": 270,
   "id": "5df02cb0",
   "metadata": {},
   "outputs": [
    {
     "name": "stdout",
     "output_type": "stream",
     "text": [
      "      A     B     C     D     E\n",
      "0   5.0   4.0   7.0  10.0  12.0\n",
      "1   1.0   3.0   1.0   0.0   2.0\n",
      "2  16.0  12.0  22.0  22.0  35.0\n",
      "3   5.0   4.0   3.0   5.0   4.0\n",
      "4  10.0   9.0   7.0  13.0  10.0\n",
      "5  19.0  18.0  28.0  37.0  58.0\n",
      "6  10.0   7.0   6.0   8.0   7.0\n"
     ]
    }
   ],
   "source": [
    "data = {\n",
    "    \"A\": [5.00, 1.00, 16.00, 5.00, 10.00, 19.00, 10.00],\n",
    "    \"B\": [4.00, 3.00, 12.00, 4.00, 9.00, 18.00, 7.00],\n",
    "    \"C\": [7.00, 1.00, 22.00, 3.00, 7.00, 28.00, 6.00],\n",
    "    \"D\": [10.00, 0.00, 22.00, 5.00, 13.00, 37.00, 8.00],\n",
    "    \"E\": [12.00, 2.00, 35.00, 4.00, 10.00, 58.00, 7.00]\n",
    "}\n",
    "df_dependent = pd.DataFrame(data)\n",
    "print(df_dependent)"
   ]
  },
  {
   "cell_type": "markdown",
   "id": "a322291e",
   "metadata": {},
   "source": [
    "Descriptive statistics"
   ]
  },
  {
   "cell_type": "code",
   "execution_count": 271,
   "id": "79865e5d",
   "metadata": {},
   "outputs": [
    {
     "name": "stdout",
     "output_type": "stream",
     "text": [
      "               A          B          C          D          E\n",
      "count   7.000000   7.000000   7.000000   7.000000   7.000000\n",
      "mean    9.428571   8.142857  10.571429  13.571429  18.285714\n",
      "std     6.399405   5.398412  10.244627  12.394315  20.661674\n",
      "min     1.000000   3.000000   1.000000   0.000000   2.000000\n",
      "25%     5.000000   4.000000   4.500000   6.500000   5.500000\n",
      "50%    10.000000   7.000000   7.000000  10.000000  10.000000\n",
      "75%    13.000000  10.500000  14.500000  17.500000  23.500000\n",
      "max    19.000000  18.000000  28.000000  37.000000  58.000000\n"
     ]
    }
   ],
   "source": [
    "summary_statistics = df_dependent.describe()\n",
    "print(summary_statistics)"
   ]
  },
  {
   "cell_type": "markdown",
   "id": "7170876d",
   "metadata": {},
   "source": [
    "Brand A has a median value of 10 and is similar to its mean, which may indicate a normal distribution.\n",
    "\n",
    "Brand C has a median value of 7, but its mean is higher. This may indicate that C may have a right-skewed distribution.\n",
    "\n",
    "The standard deviation of brand E is significantly higher than the other brands. This indicates that the values of brand E are generally further apart and have a wider distribution."
   ]
  },
  {
   "cell_type": "markdown",
   "id": "49d82fce",
   "metadata": {},
   "source": [
    "GRAPHICS"
   ]
  },
  {
   "cell_type": "code",
   "execution_count": 272,
   "id": "129513e7",
   "metadata": {},
   "outputs": [
    {
     "data": {
      "application/vnd.plotly.v1+json": {
       "config": {
        "plotlyServerURL": "https://plot.ly"
       },
       "data": [
        {
         "name": "A Box Plot",
         "type": "box",
         "xaxis": "x",
         "y": [
          5,
          1,
          16,
          5,
          10,
          19,
          10
         ],
         "yaxis": "y"
        },
        {
         "name": "B Box Plot",
         "type": "box",
         "xaxis": "x",
         "y": [
          4,
          3,
          12,
          4,
          9,
          18,
          7
         ],
         "yaxis": "y"
        },
        {
         "name": "C Box Plot",
         "type": "box",
         "xaxis": "x",
         "y": [
          7,
          1,
          22,
          3,
          7,
          28,
          6
         ],
         "yaxis": "y"
        },
        {
         "name": "D Box Plot",
         "type": "box",
         "xaxis": "x",
         "y": [
          10,
          0,
          22,
          5,
          13,
          37,
          8
         ],
         "yaxis": "y"
        },
        {
         "name": "E Box Plot",
         "type": "box",
         "xaxis": "x",
         "y": [
          12,
          2,
          35,
          4,
          10,
          58,
          7
         ],
         "yaxis": "y"
        },
        {
         "name": "A Violin Plot",
         "type": "violin",
         "xaxis": "x2",
         "y": [
          5,
          1,
          16,
          5,
          10,
          19,
          10
         ],
         "yaxis": "y2"
        },
        {
         "name": "B Violin Plot",
         "type": "violin",
         "xaxis": "x2",
         "y": [
          4,
          3,
          12,
          4,
          9,
          18,
          7
         ],
         "yaxis": "y2"
        },
        {
         "name": "C Violin Plot",
         "type": "violin",
         "xaxis": "x2",
         "y": [
          7,
          1,
          22,
          3,
          7,
          28,
          6
         ],
         "yaxis": "y2"
        },
        {
         "name": "D Violin Plot",
         "type": "violin",
         "xaxis": "x2",
         "y": [
          10,
          0,
          22,
          5,
          13,
          37,
          8
         ],
         "yaxis": "y2"
        },
        {
         "name": "E Violin Plot",
         "type": "violin",
         "xaxis": "x2",
         "y": [
          12,
          2,
          35,
          4,
          10,
          58,
          7
         ],
         "yaxis": "y2"
        }
       ],
       "layout": {
        "annotations": [
         {
          "font": {
           "size": 16
          },
          "showarrow": false,
          "text": "Box Plots",
          "x": 0.5,
          "xanchor": "center",
          "xref": "paper",
          "y": 1,
          "yanchor": "bottom",
          "yref": "paper"
         },
         {
          "font": {
           "size": 16
          },
          "showarrow": false,
          "text": "Violin Plots",
          "x": 0.5,
          "xanchor": "center",
          "xref": "paper",
          "y": 0.375,
          "yanchor": "bottom",
          "yref": "paper"
         }
        ],
        "height": 600,
        "showlegend": false,
        "template": {
         "data": {
          "bar": [
           {
            "error_x": {
             "color": "#2a3f5f"
            },
            "error_y": {
             "color": "#2a3f5f"
            },
            "marker": {
             "line": {
              "color": "#E5ECF6",
              "width": 0.5
             },
             "pattern": {
              "fillmode": "overlay",
              "size": 10,
              "solidity": 0.2
             }
            },
            "type": "bar"
           }
          ],
          "barpolar": [
           {
            "marker": {
             "line": {
              "color": "#E5ECF6",
              "width": 0.5
             },
             "pattern": {
              "fillmode": "overlay",
              "size": 10,
              "solidity": 0.2
             }
            },
            "type": "barpolar"
           }
          ],
          "carpet": [
           {
            "aaxis": {
             "endlinecolor": "#2a3f5f",
             "gridcolor": "white",
             "linecolor": "white",
             "minorgridcolor": "white",
             "startlinecolor": "#2a3f5f"
            },
            "baxis": {
             "endlinecolor": "#2a3f5f",
             "gridcolor": "white",
             "linecolor": "white",
             "minorgridcolor": "white",
             "startlinecolor": "#2a3f5f"
            },
            "type": "carpet"
           }
          ],
          "choropleth": [
           {
            "colorbar": {
             "outlinewidth": 0,
             "ticks": ""
            },
            "type": "choropleth"
           }
          ],
          "contour": [
           {
            "colorbar": {
             "outlinewidth": 0,
             "ticks": ""
            },
            "colorscale": [
             [
              0,
              "#0d0887"
             ],
             [
              0.1111111111111111,
              "#46039f"
             ],
             [
              0.2222222222222222,
              "#7201a8"
             ],
             [
              0.3333333333333333,
              "#9c179e"
             ],
             [
              0.4444444444444444,
              "#bd3786"
             ],
             [
              0.5555555555555556,
              "#d8576b"
             ],
             [
              0.6666666666666666,
              "#ed7953"
             ],
             [
              0.7777777777777778,
              "#fb9f3a"
             ],
             [
              0.8888888888888888,
              "#fdca26"
             ],
             [
              1,
              "#f0f921"
             ]
            ],
            "type": "contour"
           }
          ],
          "contourcarpet": [
           {
            "colorbar": {
             "outlinewidth": 0,
             "ticks": ""
            },
            "type": "contourcarpet"
           }
          ],
          "heatmap": [
           {
            "colorbar": {
             "outlinewidth": 0,
             "ticks": ""
            },
            "colorscale": [
             [
              0,
              "#0d0887"
             ],
             [
              0.1111111111111111,
              "#46039f"
             ],
             [
              0.2222222222222222,
              "#7201a8"
             ],
             [
              0.3333333333333333,
              "#9c179e"
             ],
             [
              0.4444444444444444,
              "#bd3786"
             ],
             [
              0.5555555555555556,
              "#d8576b"
             ],
             [
              0.6666666666666666,
              "#ed7953"
             ],
             [
              0.7777777777777778,
              "#fb9f3a"
             ],
             [
              0.8888888888888888,
              "#fdca26"
             ],
             [
              1,
              "#f0f921"
             ]
            ],
            "type": "heatmap"
           }
          ],
          "heatmapgl": [
           {
            "colorbar": {
             "outlinewidth": 0,
             "ticks": ""
            },
            "colorscale": [
             [
              0,
              "#0d0887"
             ],
             [
              0.1111111111111111,
              "#46039f"
             ],
             [
              0.2222222222222222,
              "#7201a8"
             ],
             [
              0.3333333333333333,
              "#9c179e"
             ],
             [
              0.4444444444444444,
              "#bd3786"
             ],
             [
              0.5555555555555556,
              "#d8576b"
             ],
             [
              0.6666666666666666,
              "#ed7953"
             ],
             [
              0.7777777777777778,
              "#fb9f3a"
             ],
             [
              0.8888888888888888,
              "#fdca26"
             ],
             [
              1,
              "#f0f921"
             ]
            ],
            "type": "heatmapgl"
           }
          ],
          "histogram": [
           {
            "marker": {
             "pattern": {
              "fillmode": "overlay",
              "size": 10,
              "solidity": 0.2
             }
            },
            "type": "histogram"
           }
          ],
          "histogram2d": [
           {
            "colorbar": {
             "outlinewidth": 0,
             "ticks": ""
            },
            "colorscale": [
             [
              0,
              "#0d0887"
             ],
             [
              0.1111111111111111,
              "#46039f"
             ],
             [
              0.2222222222222222,
              "#7201a8"
             ],
             [
              0.3333333333333333,
              "#9c179e"
             ],
             [
              0.4444444444444444,
              "#bd3786"
             ],
             [
              0.5555555555555556,
              "#d8576b"
             ],
             [
              0.6666666666666666,
              "#ed7953"
             ],
             [
              0.7777777777777778,
              "#fb9f3a"
             ],
             [
              0.8888888888888888,
              "#fdca26"
             ],
             [
              1,
              "#f0f921"
             ]
            ],
            "type": "histogram2d"
           }
          ],
          "histogram2dcontour": [
           {
            "colorbar": {
             "outlinewidth": 0,
             "ticks": ""
            },
            "colorscale": [
             [
              0,
              "#0d0887"
             ],
             [
              0.1111111111111111,
              "#46039f"
             ],
             [
              0.2222222222222222,
              "#7201a8"
             ],
             [
              0.3333333333333333,
              "#9c179e"
             ],
             [
              0.4444444444444444,
              "#bd3786"
             ],
             [
              0.5555555555555556,
              "#d8576b"
             ],
             [
              0.6666666666666666,
              "#ed7953"
             ],
             [
              0.7777777777777778,
              "#fb9f3a"
             ],
             [
              0.8888888888888888,
              "#fdca26"
             ],
             [
              1,
              "#f0f921"
             ]
            ],
            "type": "histogram2dcontour"
           }
          ],
          "mesh3d": [
           {
            "colorbar": {
             "outlinewidth": 0,
             "ticks": ""
            },
            "type": "mesh3d"
           }
          ],
          "parcoords": [
           {
            "line": {
             "colorbar": {
              "outlinewidth": 0,
              "ticks": ""
             }
            },
            "type": "parcoords"
           }
          ],
          "pie": [
           {
            "automargin": true,
            "type": "pie"
           }
          ],
          "scatter": [
           {
            "marker": {
             "colorbar": {
              "outlinewidth": 0,
              "ticks": ""
             }
            },
            "type": "scatter"
           }
          ],
          "scatter3d": [
           {
            "line": {
             "colorbar": {
              "outlinewidth": 0,
              "ticks": ""
             }
            },
            "marker": {
             "colorbar": {
              "outlinewidth": 0,
              "ticks": ""
             }
            },
            "type": "scatter3d"
           }
          ],
          "scattercarpet": [
           {
            "marker": {
             "colorbar": {
              "outlinewidth": 0,
              "ticks": ""
             }
            },
            "type": "scattercarpet"
           }
          ],
          "scattergeo": [
           {
            "marker": {
             "colorbar": {
              "outlinewidth": 0,
              "ticks": ""
             }
            },
            "type": "scattergeo"
           }
          ],
          "scattergl": [
           {
            "marker": {
             "colorbar": {
              "outlinewidth": 0,
              "ticks": ""
             }
            },
            "type": "scattergl"
           }
          ],
          "scattermapbox": [
           {
            "marker": {
             "colorbar": {
              "outlinewidth": 0,
              "ticks": ""
             }
            },
            "type": "scattermapbox"
           }
          ],
          "scatterpolar": [
           {
            "marker": {
             "colorbar": {
              "outlinewidth": 0,
              "ticks": ""
             }
            },
            "type": "scatterpolar"
           }
          ],
          "scatterpolargl": [
           {
            "marker": {
             "colorbar": {
              "outlinewidth": 0,
              "ticks": ""
             }
            },
            "type": "scatterpolargl"
           }
          ],
          "scatterternary": [
           {
            "marker": {
             "colorbar": {
              "outlinewidth": 0,
              "ticks": ""
             }
            },
            "type": "scatterternary"
           }
          ],
          "surface": [
           {
            "colorbar": {
             "outlinewidth": 0,
             "ticks": ""
            },
            "colorscale": [
             [
              0,
              "#0d0887"
             ],
             [
              0.1111111111111111,
              "#46039f"
             ],
             [
              0.2222222222222222,
              "#7201a8"
             ],
             [
              0.3333333333333333,
              "#9c179e"
             ],
             [
              0.4444444444444444,
              "#bd3786"
             ],
             [
              0.5555555555555556,
              "#d8576b"
             ],
             [
              0.6666666666666666,
              "#ed7953"
             ],
             [
              0.7777777777777778,
              "#fb9f3a"
             ],
             [
              0.8888888888888888,
              "#fdca26"
             ],
             [
              1,
              "#f0f921"
             ]
            ],
            "type": "surface"
           }
          ],
          "table": [
           {
            "cells": {
             "fill": {
              "color": "#EBF0F8"
             },
             "line": {
              "color": "white"
             }
            },
            "header": {
             "fill": {
              "color": "#C8D4E3"
             },
             "line": {
              "color": "white"
             }
            },
            "type": "table"
           }
          ]
         },
         "layout": {
          "annotationdefaults": {
           "arrowcolor": "#2a3f5f",
           "arrowhead": 0,
           "arrowwidth": 1
          },
          "autotypenumbers": "strict",
          "coloraxis": {
           "colorbar": {
            "outlinewidth": 0,
            "ticks": ""
           }
          },
          "colorscale": {
           "diverging": [
            [
             0,
             "#8e0152"
            ],
            [
             0.1,
             "#c51b7d"
            ],
            [
             0.2,
             "#de77ae"
            ],
            [
             0.3,
             "#f1b6da"
            ],
            [
             0.4,
             "#fde0ef"
            ],
            [
             0.5,
             "#f7f7f7"
            ],
            [
             0.6,
             "#e6f5d0"
            ],
            [
             0.7,
             "#b8e186"
            ],
            [
             0.8,
             "#7fbc41"
            ],
            [
             0.9,
             "#4d9221"
            ],
            [
             1,
             "#276419"
            ]
           ],
           "sequential": [
            [
             0,
             "#0d0887"
            ],
            [
             0.1111111111111111,
             "#46039f"
            ],
            [
             0.2222222222222222,
             "#7201a8"
            ],
            [
             0.3333333333333333,
             "#9c179e"
            ],
            [
             0.4444444444444444,
             "#bd3786"
            ],
            [
             0.5555555555555556,
             "#d8576b"
            ],
            [
             0.6666666666666666,
             "#ed7953"
            ],
            [
             0.7777777777777778,
             "#fb9f3a"
            ],
            [
             0.8888888888888888,
             "#fdca26"
            ],
            [
             1,
             "#f0f921"
            ]
           ],
           "sequentialminus": [
            [
             0,
             "#0d0887"
            ],
            [
             0.1111111111111111,
             "#46039f"
            ],
            [
             0.2222222222222222,
             "#7201a8"
            ],
            [
             0.3333333333333333,
             "#9c179e"
            ],
            [
             0.4444444444444444,
             "#bd3786"
            ],
            [
             0.5555555555555556,
             "#d8576b"
            ],
            [
             0.6666666666666666,
             "#ed7953"
            ],
            [
             0.7777777777777778,
             "#fb9f3a"
            ],
            [
             0.8888888888888888,
             "#fdca26"
            ],
            [
             1,
             "#f0f921"
            ]
           ]
          },
          "colorway": [
           "#636efa",
           "#EF553B",
           "#00cc96",
           "#ab63fa",
           "#FFA15A",
           "#19d3f3",
           "#FF6692",
           "#B6E880",
           "#FF97FF",
           "#FECB52"
          ],
          "font": {
           "color": "#2a3f5f"
          },
          "geo": {
           "bgcolor": "white",
           "lakecolor": "white",
           "landcolor": "#E5ECF6",
           "showlakes": true,
           "showland": true,
           "subunitcolor": "white"
          },
          "hoverlabel": {
           "align": "left"
          },
          "hovermode": "closest",
          "mapbox": {
           "style": "light"
          },
          "paper_bgcolor": "white",
          "plot_bgcolor": "#E5ECF6",
          "polar": {
           "angularaxis": {
            "gridcolor": "white",
            "linecolor": "white",
            "ticks": ""
           },
           "bgcolor": "#E5ECF6",
           "radialaxis": {
            "gridcolor": "white",
            "linecolor": "white",
            "ticks": ""
           }
          },
          "scene": {
           "xaxis": {
            "backgroundcolor": "#E5ECF6",
            "gridcolor": "white",
            "gridwidth": 2,
            "linecolor": "white",
            "showbackground": true,
            "ticks": "",
            "zerolinecolor": "white"
           },
           "yaxis": {
            "backgroundcolor": "#E5ECF6",
            "gridcolor": "white",
            "gridwidth": 2,
            "linecolor": "white",
            "showbackground": true,
            "ticks": "",
            "zerolinecolor": "white"
           },
           "zaxis": {
            "backgroundcolor": "#E5ECF6",
            "gridcolor": "white",
            "gridwidth": 2,
            "linecolor": "white",
            "showbackground": true,
            "ticks": "",
            "zerolinecolor": "white"
           }
          },
          "shapedefaults": {
           "line": {
            "color": "#2a3f5f"
           }
          },
          "ternary": {
           "aaxis": {
            "gridcolor": "white",
            "linecolor": "white",
            "ticks": ""
           },
           "baxis": {
            "gridcolor": "white",
            "linecolor": "white",
            "ticks": ""
           },
           "bgcolor": "#E5ECF6",
           "caxis": {
            "gridcolor": "white",
            "linecolor": "white",
            "ticks": ""
           }
          },
          "title": {
           "x": 0.05
          },
          "xaxis": {
           "automargin": true,
           "gridcolor": "white",
           "linecolor": "white",
           "ticks": "",
           "title": {
            "standoff": 15
           },
           "zerolinecolor": "white",
           "zerolinewidth": 2
          },
          "yaxis": {
           "automargin": true,
           "gridcolor": "white",
           "linecolor": "white",
           "ticks": "",
           "title": {
            "standoff": 15
           },
           "zerolinecolor": "white",
           "zerolinewidth": 2
          }
         }
        },
        "title": {
         "text": "Box Plots and Violin Plots"
        },
        "width": 800,
        "xaxis": {
         "anchor": "y",
         "domain": [
          0,
          1
         ]
        },
        "xaxis2": {
         "anchor": "y2",
         "domain": [
          0,
          1
         ]
        },
        "yaxis": {
         "anchor": "x",
         "domain": [
          0.625,
          1
         ]
        },
        "yaxis2": {
         "anchor": "x2",
         "domain": [
          0,
          0.375
         ]
        }
       }
      },
      "text/html": [
       "<div>                            <div id=\"cc2268bb-f4ae-4f1c-850f-78981ce79022\" class=\"plotly-graph-div\" style=\"height:600px; width:800px;\"></div>            <script type=\"text/javascript\">                require([\"plotly\"], function(Plotly) {                    window.PLOTLYENV=window.PLOTLYENV || {};                                    if (document.getElementById(\"cc2268bb-f4ae-4f1c-850f-78981ce79022\")) {                    Plotly.newPlot(                        \"cc2268bb-f4ae-4f1c-850f-78981ce79022\",                        [{\"name\":\"A Box Plot\",\"y\":[5.0,1.0,16.0,5.0,10.0,19.0,10.0],\"type\":\"box\",\"xaxis\":\"x\",\"yaxis\":\"y\"},{\"name\":\"B Box Plot\",\"y\":[4.0,3.0,12.0,4.0,9.0,18.0,7.0],\"type\":\"box\",\"xaxis\":\"x\",\"yaxis\":\"y\"},{\"name\":\"C Box Plot\",\"y\":[7.0,1.0,22.0,3.0,7.0,28.0,6.0],\"type\":\"box\",\"xaxis\":\"x\",\"yaxis\":\"y\"},{\"name\":\"D Box Plot\",\"y\":[10.0,0.0,22.0,5.0,13.0,37.0,8.0],\"type\":\"box\",\"xaxis\":\"x\",\"yaxis\":\"y\"},{\"name\":\"E Box Plot\",\"y\":[12.0,2.0,35.0,4.0,10.0,58.0,7.0],\"type\":\"box\",\"xaxis\":\"x\",\"yaxis\":\"y\"},{\"name\":\"A Violin Plot\",\"y\":[5.0,1.0,16.0,5.0,10.0,19.0,10.0],\"type\":\"violin\",\"xaxis\":\"x2\",\"yaxis\":\"y2\"},{\"name\":\"B Violin Plot\",\"y\":[4.0,3.0,12.0,4.0,9.0,18.0,7.0],\"type\":\"violin\",\"xaxis\":\"x2\",\"yaxis\":\"y2\"},{\"name\":\"C Violin Plot\",\"y\":[7.0,1.0,22.0,3.0,7.0,28.0,6.0],\"type\":\"violin\",\"xaxis\":\"x2\",\"yaxis\":\"y2\"},{\"name\":\"D Violin Plot\",\"y\":[10.0,0.0,22.0,5.0,13.0,37.0,8.0],\"type\":\"violin\",\"xaxis\":\"x2\",\"yaxis\":\"y2\"},{\"name\":\"E Violin Plot\",\"y\":[12.0,2.0,35.0,4.0,10.0,58.0,7.0],\"type\":\"violin\",\"xaxis\":\"x2\",\"yaxis\":\"y2\"}],                        {\"template\":{\"data\":{\"bar\":[{\"error_x\":{\"color\":\"#2a3f5f\"},\"error_y\":{\"color\":\"#2a3f5f\"},\"marker\":{\"line\":{\"color\":\"#E5ECF6\",\"width\":0.5},\"pattern\":{\"fillmode\":\"overlay\",\"size\":10,\"solidity\":0.2}},\"type\":\"bar\"}],\"barpolar\":[{\"marker\":{\"line\":{\"color\":\"#E5ECF6\",\"width\":0.5},\"pattern\":{\"fillmode\":\"overlay\",\"size\":10,\"solidity\":0.2}},\"type\":\"barpolar\"}],\"carpet\":[{\"aaxis\":{\"endlinecolor\":\"#2a3f5f\",\"gridcolor\":\"white\",\"linecolor\":\"white\",\"minorgridcolor\":\"white\",\"startlinecolor\":\"#2a3f5f\"},\"baxis\":{\"endlinecolor\":\"#2a3f5f\",\"gridcolor\":\"white\",\"linecolor\":\"white\",\"minorgridcolor\":\"white\",\"startlinecolor\":\"#2a3f5f\"},\"type\":\"carpet\"}],\"choropleth\":[{\"colorbar\":{\"outlinewidth\":0,\"ticks\":\"\"},\"type\":\"choropleth\"}],\"contour\":[{\"colorbar\":{\"outlinewidth\":0,\"ticks\":\"\"},\"colorscale\":[[0.0,\"#0d0887\"],[0.1111111111111111,\"#46039f\"],[0.2222222222222222,\"#7201a8\"],[0.3333333333333333,\"#9c179e\"],[0.4444444444444444,\"#bd3786\"],[0.5555555555555556,\"#d8576b\"],[0.6666666666666666,\"#ed7953\"],[0.7777777777777778,\"#fb9f3a\"],[0.8888888888888888,\"#fdca26\"],[1.0,\"#f0f921\"]],\"type\":\"contour\"}],\"contourcarpet\":[{\"colorbar\":{\"outlinewidth\":0,\"ticks\":\"\"},\"type\":\"contourcarpet\"}],\"heatmap\":[{\"colorbar\":{\"outlinewidth\":0,\"ticks\":\"\"},\"colorscale\":[[0.0,\"#0d0887\"],[0.1111111111111111,\"#46039f\"],[0.2222222222222222,\"#7201a8\"],[0.3333333333333333,\"#9c179e\"],[0.4444444444444444,\"#bd3786\"],[0.5555555555555556,\"#d8576b\"],[0.6666666666666666,\"#ed7953\"],[0.7777777777777778,\"#fb9f3a\"],[0.8888888888888888,\"#fdca26\"],[1.0,\"#f0f921\"]],\"type\":\"heatmap\"}],\"heatmapgl\":[{\"colorbar\":{\"outlinewidth\":0,\"ticks\":\"\"},\"colorscale\":[[0.0,\"#0d0887\"],[0.1111111111111111,\"#46039f\"],[0.2222222222222222,\"#7201a8\"],[0.3333333333333333,\"#9c179e\"],[0.4444444444444444,\"#bd3786\"],[0.5555555555555556,\"#d8576b\"],[0.6666666666666666,\"#ed7953\"],[0.7777777777777778,\"#fb9f3a\"],[0.8888888888888888,\"#fdca26\"],[1.0,\"#f0f921\"]],\"type\":\"heatmapgl\"}],\"histogram\":[{\"marker\":{\"pattern\":{\"fillmode\":\"overlay\",\"size\":10,\"solidity\":0.2}},\"type\":\"histogram\"}],\"histogram2d\":[{\"colorbar\":{\"outlinewidth\":0,\"ticks\":\"\"},\"colorscale\":[[0.0,\"#0d0887\"],[0.1111111111111111,\"#46039f\"],[0.2222222222222222,\"#7201a8\"],[0.3333333333333333,\"#9c179e\"],[0.4444444444444444,\"#bd3786\"],[0.5555555555555556,\"#d8576b\"],[0.6666666666666666,\"#ed7953\"],[0.7777777777777778,\"#fb9f3a\"],[0.8888888888888888,\"#fdca26\"],[1.0,\"#f0f921\"]],\"type\":\"histogram2d\"}],\"histogram2dcontour\":[{\"colorbar\":{\"outlinewidth\":0,\"ticks\":\"\"},\"colorscale\":[[0.0,\"#0d0887\"],[0.1111111111111111,\"#46039f\"],[0.2222222222222222,\"#7201a8\"],[0.3333333333333333,\"#9c179e\"],[0.4444444444444444,\"#bd3786\"],[0.5555555555555556,\"#d8576b\"],[0.6666666666666666,\"#ed7953\"],[0.7777777777777778,\"#fb9f3a\"],[0.8888888888888888,\"#fdca26\"],[1.0,\"#f0f921\"]],\"type\":\"histogram2dcontour\"}],\"mesh3d\":[{\"colorbar\":{\"outlinewidth\":0,\"ticks\":\"\"},\"type\":\"mesh3d\"}],\"parcoords\":[{\"line\":{\"colorbar\":{\"outlinewidth\":0,\"ticks\":\"\"}},\"type\":\"parcoords\"}],\"pie\":[{\"automargin\":true,\"type\":\"pie\"}],\"scatter\":[{\"marker\":{\"colorbar\":{\"outlinewidth\":0,\"ticks\":\"\"}},\"type\":\"scatter\"}],\"scatter3d\":[{\"line\":{\"colorbar\":{\"outlinewidth\":0,\"ticks\":\"\"}},\"marker\":{\"colorbar\":{\"outlinewidth\":0,\"ticks\":\"\"}},\"type\":\"scatter3d\"}],\"scattercarpet\":[{\"marker\":{\"colorbar\":{\"outlinewidth\":0,\"ticks\":\"\"}},\"type\":\"scattercarpet\"}],\"scattergeo\":[{\"marker\":{\"colorbar\":{\"outlinewidth\":0,\"ticks\":\"\"}},\"type\":\"scattergeo\"}],\"scattergl\":[{\"marker\":{\"colorbar\":{\"outlinewidth\":0,\"ticks\":\"\"}},\"type\":\"scattergl\"}],\"scattermapbox\":[{\"marker\":{\"colorbar\":{\"outlinewidth\":0,\"ticks\":\"\"}},\"type\":\"scattermapbox\"}],\"scatterpolar\":[{\"marker\":{\"colorbar\":{\"outlinewidth\":0,\"ticks\":\"\"}},\"type\":\"scatterpolar\"}],\"scatterpolargl\":[{\"marker\":{\"colorbar\":{\"outlinewidth\":0,\"ticks\":\"\"}},\"type\":\"scatterpolargl\"}],\"scatterternary\":[{\"marker\":{\"colorbar\":{\"outlinewidth\":0,\"ticks\":\"\"}},\"type\":\"scatterternary\"}],\"surface\":[{\"colorbar\":{\"outlinewidth\":0,\"ticks\":\"\"},\"colorscale\":[[0.0,\"#0d0887\"],[0.1111111111111111,\"#46039f\"],[0.2222222222222222,\"#7201a8\"],[0.3333333333333333,\"#9c179e\"],[0.4444444444444444,\"#bd3786\"],[0.5555555555555556,\"#d8576b\"],[0.6666666666666666,\"#ed7953\"],[0.7777777777777778,\"#fb9f3a\"],[0.8888888888888888,\"#fdca26\"],[1.0,\"#f0f921\"]],\"type\":\"surface\"}],\"table\":[{\"cells\":{\"fill\":{\"color\":\"#EBF0F8\"},\"line\":{\"color\":\"white\"}},\"header\":{\"fill\":{\"color\":\"#C8D4E3\"},\"line\":{\"color\":\"white\"}},\"type\":\"table\"}]},\"layout\":{\"annotationdefaults\":{\"arrowcolor\":\"#2a3f5f\",\"arrowhead\":0,\"arrowwidth\":1},\"autotypenumbers\":\"strict\",\"coloraxis\":{\"colorbar\":{\"outlinewidth\":0,\"ticks\":\"\"}},\"colorscale\":{\"diverging\":[[0,\"#8e0152\"],[0.1,\"#c51b7d\"],[0.2,\"#de77ae\"],[0.3,\"#f1b6da\"],[0.4,\"#fde0ef\"],[0.5,\"#f7f7f7\"],[0.6,\"#e6f5d0\"],[0.7,\"#b8e186\"],[0.8,\"#7fbc41\"],[0.9,\"#4d9221\"],[1,\"#276419\"]],\"sequential\":[[0.0,\"#0d0887\"],[0.1111111111111111,\"#46039f\"],[0.2222222222222222,\"#7201a8\"],[0.3333333333333333,\"#9c179e\"],[0.4444444444444444,\"#bd3786\"],[0.5555555555555556,\"#d8576b\"],[0.6666666666666666,\"#ed7953\"],[0.7777777777777778,\"#fb9f3a\"],[0.8888888888888888,\"#fdca26\"],[1.0,\"#f0f921\"]],\"sequentialminus\":[[0.0,\"#0d0887\"],[0.1111111111111111,\"#46039f\"],[0.2222222222222222,\"#7201a8\"],[0.3333333333333333,\"#9c179e\"],[0.4444444444444444,\"#bd3786\"],[0.5555555555555556,\"#d8576b\"],[0.6666666666666666,\"#ed7953\"],[0.7777777777777778,\"#fb9f3a\"],[0.8888888888888888,\"#fdca26\"],[1.0,\"#f0f921\"]]},\"colorway\":[\"#636efa\",\"#EF553B\",\"#00cc96\",\"#ab63fa\",\"#FFA15A\",\"#19d3f3\",\"#FF6692\",\"#B6E880\",\"#FF97FF\",\"#FECB52\"],\"font\":{\"color\":\"#2a3f5f\"},\"geo\":{\"bgcolor\":\"white\",\"lakecolor\":\"white\",\"landcolor\":\"#E5ECF6\",\"showlakes\":true,\"showland\":true,\"subunitcolor\":\"white\"},\"hoverlabel\":{\"align\":\"left\"},\"hovermode\":\"closest\",\"mapbox\":{\"style\":\"light\"},\"paper_bgcolor\":\"white\",\"plot_bgcolor\":\"#E5ECF6\",\"polar\":{\"angularaxis\":{\"gridcolor\":\"white\",\"linecolor\":\"white\",\"ticks\":\"\"},\"bgcolor\":\"#E5ECF6\",\"radialaxis\":{\"gridcolor\":\"white\",\"linecolor\":\"white\",\"ticks\":\"\"}},\"scene\":{\"xaxis\":{\"backgroundcolor\":\"#E5ECF6\",\"gridcolor\":\"white\",\"gridwidth\":2,\"linecolor\":\"white\",\"showbackground\":true,\"ticks\":\"\",\"zerolinecolor\":\"white\"},\"yaxis\":{\"backgroundcolor\":\"#E5ECF6\",\"gridcolor\":\"white\",\"gridwidth\":2,\"linecolor\":\"white\",\"showbackground\":true,\"ticks\":\"\",\"zerolinecolor\":\"white\"},\"zaxis\":{\"backgroundcolor\":\"#E5ECF6\",\"gridcolor\":\"white\",\"gridwidth\":2,\"linecolor\":\"white\",\"showbackground\":true,\"ticks\":\"\",\"zerolinecolor\":\"white\"}},\"shapedefaults\":{\"line\":{\"color\":\"#2a3f5f\"}},\"ternary\":{\"aaxis\":{\"gridcolor\":\"white\",\"linecolor\":\"white\",\"ticks\":\"\"},\"baxis\":{\"gridcolor\":\"white\",\"linecolor\":\"white\",\"ticks\":\"\"},\"bgcolor\":\"#E5ECF6\",\"caxis\":{\"gridcolor\":\"white\",\"linecolor\":\"white\",\"ticks\":\"\"}},\"title\":{\"x\":0.05},\"xaxis\":{\"automargin\":true,\"gridcolor\":\"white\",\"linecolor\":\"white\",\"ticks\":\"\",\"title\":{\"standoff\":15},\"zerolinecolor\":\"white\",\"zerolinewidth\":2},\"yaxis\":{\"automargin\":true,\"gridcolor\":\"white\",\"linecolor\":\"white\",\"ticks\":\"\",\"title\":{\"standoff\":15},\"zerolinecolor\":\"white\",\"zerolinewidth\":2}}},\"xaxis\":{\"anchor\":\"y\",\"domain\":[0.0,1.0]},\"yaxis\":{\"anchor\":\"x\",\"domain\":[0.625,1.0]},\"xaxis2\":{\"anchor\":\"y2\",\"domain\":[0.0,1.0]},\"yaxis2\":{\"anchor\":\"x2\",\"domain\":[0.0,0.375]},\"annotations\":[{\"font\":{\"size\":16},\"showarrow\":false,\"text\":\"Box Plots\",\"x\":0.5,\"xanchor\":\"center\",\"xref\":\"paper\",\"y\":1.0,\"yanchor\":\"bottom\",\"yref\":\"paper\"},{\"font\":{\"size\":16},\"showarrow\":false,\"text\":\"Violin Plots\",\"x\":0.5,\"xanchor\":\"center\",\"xref\":\"paper\",\"y\":0.375,\"yanchor\":\"bottom\",\"yref\":\"paper\"}],\"title\":{\"text\":\"Box Plots and Violin Plots\"},\"height\":600,\"width\":800,\"showlegend\":false},                        {\"responsive\": true}                    ).then(function(){\n",
       "                            \n",
       "var gd = document.getElementById('cc2268bb-f4ae-4f1c-850f-78981ce79022');\n",
       "var x = new MutationObserver(function (mutations, observer) {{\n",
       "        var display = window.getComputedStyle(gd).display;\n",
       "        if (!display || display === 'none') {{\n",
       "            console.log([gd, 'removed!']);\n",
       "            Plotly.purge(gd);\n",
       "            observer.disconnect();\n",
       "        }}\n",
       "}});\n",
       "\n",
       "// Listen for the removal of the full notebook cells\n",
       "var notebookContainer = gd.closest('#notebook-container');\n",
       "if (notebookContainer) {{\n",
       "    x.observe(notebookContainer, {childList: true});\n",
       "}}\n",
       "\n",
       "// Listen for the clearing of the current output cell\n",
       "var outputEl = gd.closest('.output');\n",
       "if (outputEl) {{\n",
       "    x.observe(outputEl, {childList: true});\n",
       "}}\n",
       "\n",
       "                        })                };                });            </script>        </div>"
      ]
     },
     "metadata": {},
     "output_type": "display_data"
    },
    {
     "data": {
      "image/png": "[encoded data removed]",
      "text/plain": [
       "<Figure size 1080x360 with 5 Axes>"
      ]
     },
     "metadata": {
      "needs_background": "light"
     },
     "output_type": "display_data"
    }
   ],
   "source": [
    "import plotly.express as px\n",
    "import pandas as pd\n",
    "from plotly.subplots import make_subplots\n",
    "import plotly.graph_objects as go\n",
    "from scipy import stats\n",
    "\n",
    "df = pd.DataFrame(df_dependent)\n",
    "\n",
    "fig = make_subplots(rows=2, cols=1, subplot_titles=(\"Box Plots\", \"Violin Plots\"))\n",
    "\n",
    "for column in df.columns:\n",
    "    box_trace = go.Box(y=df[column], name=f'{column} Box Plot')\n",
    "    fig.add_trace(box_trace, row=1, col=1)\n",
    "\n",
    "for column in df.columns:\n",
    "    violin_trace = go.Violin(y=df[column], name=f'{column} Violin Plot')\n",
    "    fig.add_trace(violin_trace, row=2, col=1)\n",
    "\n",
    "fig.update_layout(height=600, width=800, showlegend=False, title_text=\"Box Plots and Violin Plots\")\n",
    "fig.show()\n",
    "\n",
    "\n",
    "df = pd.DataFrame(data)\n",
    "fig, axes = plt.subplots(nrows=1, ncols=len(df.columns), figsize=(15, 5))\n",
    "\n",
    "for i, column in enumerate(df.columns):\n",
    "    _, (slope, intercept, r) = stats.probplot(df[column], plot=axes[i], fit=True)\n",
    "    axes[i].set_title(f'QQ Plot - {column}')\n",
    "\n",
    "    for j, val in enumerate(df[column].sample(5)):\n",
    "        axes[i].annotate(f'{val:.2f}', xy=(val, slope * val + intercept),\n",
    "                         xytext=(-15, 7), textcoords='offset points', ha='center', va='bottom', fontsize=8)\n",
    "\n",
    "plt.tight_layout()\n",
    "plt.show()"
   ]
  },
  {
   "cell_type": "markdown",
   "id": "12639ab8",
   "metadata": {},
   "source": [
    "ASSUMPTION OF NORMALITY"
   ]
  },
  {
   "cell_type": "code",
   "execution_count": 273,
   "id": "913c7820",
   "metadata": {},
   "outputs": [
    {
     "name": "stdout",
     "output_type": "stream",
     "text": [
      "Null Hypothesis (H0): The data set is normally distributed.\n",
      "Alternative Hypothesis (H1): The data set is not normally distributed.\n",
      "\n",
      "\n",
      "Shapiro-Wilk test for column 'A':\n",
      "   Null Hypothesis (H0): The data set is normally distributed.\n",
      "   Alternative Hypothesis (H1): The data set is not normally distributed.\n",
      "   Result: p-value = 0.7030. Fail to reject the null hypothesis. The data set is normally distributed.\n",
      "\n",
      "Shapiro-Wilk test for column 'B':\n",
      "   Null Hypothesis (H0): The data set is normally distributed.\n",
      "   Alternative Hypothesis (H1): The data set is not normally distributed.\n",
      "   Result: p-value = 0.2758. Fail to reject the null hypothesis. The data set is normally distributed.\n",
      "\n",
      "Shapiro-Wilk test for column 'C':\n",
      "   Null Hypothesis (H0): The data set is normally distributed.\n",
      "   Alternative Hypothesis (H1): The data set is not normally distributed.\n",
      "   Result: p-value = 0.0641. Fail to reject the null hypothesis. The data set is normally distributed.\n",
      "\n",
      "Shapiro-Wilk test for column 'D':\n",
      "   Null Hypothesis (H0): The data set is normally distributed.\n",
      "   Alternative Hypothesis (H1): The data set is not normally distributed.\n",
      "   Result: p-value = 0.3748. Fail to reject the null hypothesis. The data set is normally distributed.\n",
      "\n",
      "Shapiro-Wilk test for column 'E':\n",
      "   Null Hypothesis (H0): The data set is normally distributed.\n",
      "   Alternative Hypothesis (H1): The data set is not normally distributed.\n",
      "   Result: p-value = 0.0328. Reject the null hypothesis. The data set is not normally distributed.\n"
     ]
    }
   ],
   "source": [
    "import pandas as pd\n",
    "from scipy.stats import shapiro\n",
    "\n",
    "print(\"Null Hypothesis (H0): The data set is normally distributed.\")\n",
    "print(\"Alternative Hypothesis (H1): The data set is not normally distributed.\\n\")\n",
    "\n",
    "alpha = 0.05\n",
    "\n",
    "for column in df_dependent.columns:\n",
    "    statistic, p_value = shapiro(df[column])\n",
    "    print(f\"\\nShapiro-Wilk test for column '{column}':\\n\"\n",
    "          f\"   Null Hypothesis (H0): The data set is normally distributed.\\n\"\n",
    "          f\"   Alternative Hypothesis (H1): The data set is not normally distributed.\")\n",
    "\n",
    "    if p_value < alpha:\n",
    "        print(f\"   Result: p-value = {p_value:.4f}. Reject the null hypothesis. The data set is not normally distributed.\")\n",
    "    else:\n",
    "        print(f\"   Result: p-value = {p_value:.4f}. Fail to reject the null hypothesis. The data set is normally distributed.\")\n"
   ]
  },
  {
   "cell_type": "code",
   "execution_count": null,
   "id": "6771beab",
   "metadata": {},
   "outputs": [],
   "source": []
  },
  {
   "cell_type": "code",
   "execution_count": null,
   "id": "969de046",
   "metadata": {},
   "outputs": [],
   "source": []
  },
  {
   "cell_type": "markdown",
   "id": "6985fa17",
   "metadata": {},
   "source": [
    "<div style=\"text-align: center; background-color: #add8e6; padding: 10px;\">\n",
    "    <h1>Trend Veri</h1>\n",
    "</div>\n"
   ]
  },
  {
   "cell_type": "markdown",
   "id": "5ba264dd",
   "metadata": {},
   "source": [
    "It is estimated that the rate of urbanisation in Turkey increased between 1960 and 2010 due to the fact that industry and labour force are more concentrated in cities. Accordingly, a statistical analysis will be carried out on the urbanisation rate data for this period.\n",
    "\n",
    "Data are taken from https://ourworldindata.org/grapher/share-of-population-urban?tab=chart&time=earliest..2000&country=~TUR."
   ]
  },
  {
   "cell_type": "code",
   "execution_count": 274,
   "id": "8ced6fd3",
   "metadata": {},
   "outputs": [],
   "source": [
    "df_trend = pd.read_csv(\"share-of-population-urban.csv\")\n",
    "# df_trend"
   ]
  },
  {
   "cell_type": "code",
   "execution_count": 275,
   "id": "183f3254",
   "metadata": {},
   "outputs": [],
   "source": [
    "df_trend = df_trend[(df_trend[\"Entity\"] == \"Turkey\") & (df_trend[\"Year\"].isin(range(1960, 2011)))][[\"Urban population (% of total population)\",\"Entity\",\"Year\"]]\n",
    "#df_trend"
   ]
  },
  {
   "cell_type": "markdown",
   "id": "619d72f2",
   "metadata": {},
   "source": [
    "Observations in Turkey between 1960-2000 are filtered from the data above."
   ]
  },
  {
   "cell_type": "code",
   "execution_count": 276,
   "id": "6328ea77",
   "metadata": {},
   "outputs": [
    {
     "name": "stdout",
     "output_type": "stream",
     "text": [
      "       Urban population (% of total population)         Year\n",
      "count                                 51.000000    51.000000\n",
      "mean                                  51.530059  1985.000000\n",
      "std                                   12.981143    14.866069\n",
      "min                                   31.515000  1960.000000\n",
      "25%                                   39.929000  1972.500000\n",
      "50%                                   52.448000  1985.000000\n",
      "75%                                   63.441000  1997.500000\n",
      "max                                   70.825000  2010.000000\n"
     ]
    }
   ],
   "source": [
    "summary_statistics = df_trend.describe()\n",
    "print(summary_statistics)"
   ]
  },
  {
   "cell_type": "code",
   "execution_count": 277,
   "id": "f054ef4f",
   "metadata": {},
   "outputs": [
    {
     "data": {
      "image/png": "[encoded data removed]",
      "text/plain": [
       "<Figure size 1080x576 with 1 Axes>"
      ]
     },
     "metadata": {
      "needs_background": "light"
     },
     "output_type": "display_data"
    }
   ],
   "source": [
    "import matplotlib.pyplot as plt\n",
    "import seaborn as sns\n",
    "\n",
    "plt.figure(figsize=(15, 8))\n",
    "sns.barplot(x='Year', y='Urban population (% of total population)', data=df_trend) ## Varsayılan palette kullanılmıştır.\n",
    "plt.title('Urban population (% of total population) Over Years')\n",
    "plt.xlabel('Year')\n",
    "plt.ylabel('Urban population (% of total population)')\n",
    "plt.xticks(rotation=90)\n",
    "plt.show()"
   ]
  },
  {
   "cell_type": "code",
   "execution_count": 278,
   "id": "c10bd557",
   "metadata": {
    "scrolled": true
   },
   "outputs": [
    {
     "name": "stdout",
     "output_type": "stream",
     "text": [
      "Test Statistic: 1.0000\n",
      "P-value: 0.0000\n",
      "Sample data does not follow a normal distribution (H0 is rejected)\n"
     ]
    }
   ],
   "source": [
    "from scipy.stats import kstest\n",
    "\n",
    "statistic, p_value = kstest(df_trend[\"Urban population (% of total population)\"], 'norm')\n",
    "\n",
    "print(f\"Test Statistic: {statistic:.4f}\")\n",
    "print(f\"P-value: {p_value:.4f}\")\n",
    "\n",
    "alpha = 0.05\n",
    "if p_value > alpha:\n",
    "    print(\"Sample data follows a normal distribution (H0 cannot be rejected)\")\n",
    "else:\n",
    "    print(\"Sample data does not follow a normal distribution (H0 is rejected)\")\n"
   ]
  },
  {
   "cell_type": "code",
   "execution_count": null,
   "id": "04e33b00",
   "metadata": {},
   "outputs": [],
   "source": []
  },
  {
   "cell_type": "markdown",
   "id": "4a5c6e49",
   "metadata": {},
   "source": [
    "<div style=\"text-align: center; background-color: lightgreen; padding: 10px;\">\n",
    "    <h1>Tests</h1>\n",
    "</div>\n"
   ]
  },
  {
   "cell_type": "markdown",
   "id": "3d2af01a",
   "metadata": {},
   "source": [
    "One Sample Location Test"
   ]
  },
  {
   "cell_type": "markdown",
   "id": "96a75fce",
   "metadata": {},
   "source": [
    "𝐻0: 𝜃A = 20\n",
    "\n",
    "𝐻1: 𝜃A > 20"
   ]
  },
  {
   "cell_type": "code",
   "execution_count": 279,
   "id": "bb3a688a",
   "metadata": {},
   "outputs": [
    {
     "name": "stdout",
     "output_type": "stream",
     "text": [
      "df_independent  :  0      2.0\n",
      "1     12.0\n",
      "2      5.0\n",
      "3      4.0\n",
      "4     26.0\n",
      "5      8.0\n",
      "6     17.0\n",
      "7      4.0\n",
      "8     25.0\n",
      "9      6.0\n",
      "10    21.0\n",
      "11     6.0\n",
      "Name: A, dtype: float64\n",
      "+  ->  3\n",
      "-  ->  9\n"
     ]
    }
   ],
   "source": [
    "print(\"df_independent  : \",df_independent[\"A\"])\n",
    "alleged = 20\n",
    "nPlus = len([x for x in df_independent[\"A\"] if x > alleged])\n",
    "nNeg = len([x for x in df_independent[\"A\"] if x < alleged])\n",
    "n = nPlus + nNeg\n",
    "\n",
    "print(\"+  -> \",nPlus)\n",
    "print(\"-  -> \",nNeg)"
   ]
  },
  {
   "cell_type": "markdown",
   "id": "7142eb94",
   "metadata": {},
   "source": [
    "."
   ]
  },
  {
   "cell_type": "markdown",
   "id": "4cb3e730",
   "metadata": {},
   "source": [
    "Sign Test"
   ]
  },
  {
   "cell_type": "code",
   "execution_count": 280,
   "id": "5d47a36b",
   "metadata": {},
   "outputs": [
    {
     "data": {
      "text/plain": [
       "BinomTestResult(k=3, n=12, alternative='greater', statistic=0.25, pvalue=0.980712890625)"
      ]
     },
     "execution_count": 280,
     "metadata": {},
     "output_type": "execute_result"
    }
   ],
   "source": [
    "from scipy.stats import binom_test\n",
    "p_value = stats.binomtest(nPlus, n, p=0.5, alternative='greater')\n",
    "p_value"
   ]
  },
  {
   "cell_type": "code",
   "execution_count": 281,
   "id": "60d4a383",
   "metadata": {},
   "outputs": [
    {
     "name": "stdout",
     "output_type": "stream",
     "text": [
      "The obtained p-value is greater than 0.05.\n",
      "\n",
      "Sign Test Result: p-value = 0.980712890625\n"
     ]
    }
   ],
   "source": [
    "p_value = p_value.pvalue\n",
    "alpha = 0.05\n",
    "if p_value > alpha:\n",
    "    decision = f\"The obtained p-value is greater than {alpha}.\\n\"\n",
    "else:\n",
    "    decision = f\"The obtained p-value is equal to or less than {alpha}.\\n\"\n",
    "\n",
    "print(decision)\n",
    "print(f\"Sign Test Result: p-value = {p_value}\")\n"
   ]
  },
  {
   "cell_type": "markdown",
   "id": "72839765",
   "metadata": {},
   "source": [
    "It can be stated with 95% confidence level that the median is not greater than 20."
   ]
  },
  {
   "cell_type": "markdown",
   "id": "e7211e00",
   "metadata": {},
   "source": [
    "."
   ]
  },
  {
   "cell_type": "markdown",
   "id": "42b661a0",
   "metadata": {},
   "source": [
    "Wilcoxon Signed-Rank Test"
   ]
  },
  {
   "cell_type": "code",
   "execution_count": 282,
   "id": "f9dd1357",
   "metadata": {},
   "outputs": [
    {
     "data": {
      "text/plain": [
       "WilcoxonResult(statistic=32.5, pvalue=0.5354585807761036)"
      ]
     },
     "execution_count": 282,
     "metadata": {},
     "output_type": "execute_result"
    }
   ],
   "source": [
    "from scipy.stats import wilcoxon\n",
    "result = wilcoxon([x - alleged for x in df_independent[\"C\"]], alternative='greater',method='exact', correction=True)\n",
    "result"
   ]
  },
  {
   "cell_type": "code",
   "execution_count": 283,
   "id": "3f46b33e",
   "metadata": {},
   "outputs": [
    {
     "name": "stdout",
     "output_type": "stream",
     "text": [
      "The obtained p-value is greater than 0.05.\n",
      "\n",
      "Wilcoxon Test Sonucu: p-value = 0.5354585807761036\n"
     ]
    }
   ],
   "source": [
    "p_value = result.pvalue\n",
    "alpha = 0.05\n",
    "if p_value > alpha:\n",
    "    decision = f\"The obtained p-value is greater than {alpha}.\\n\"\n",
    "else:\n",
    "    decision = f\"The obtained p-value is equal to or less than {alpha}.\\n\"\n",
    "\n",
    "print(decision)\n",
    "print(f\"Wilcoxon Test Sonucu: p-value = {p_value}\")"
   ]
  },
  {
   "cell_type": "code",
   "execution_count": null,
   "id": "bdbecdc7",
   "metadata": {},
   "outputs": [],
   "source": []
  },
  {
   "cell_type": "markdown",
   "id": "bc84999b",
   "metadata": {},
   "source": [
    "Mann-Whitney U Test\n",
    "\n",
    "𝐻0: 𝜃A - 𝜃C = 0\n",
    "\n",
    "𝐻1: 𝜃A - 𝜃C < 0\n"
   ]
  },
  {
   "cell_type": "code",
   "execution_count": 284,
   "id": "f9c4aaf2",
   "metadata": {},
   "outputs": [
    {
     "name": "stdout",
     "output_type": "stream",
     "text": [
      "Test statistics: 38.5\n",
      "P-value: 0.02818515194903695\n"
     ]
    }
   ],
   "source": [
    "from scipy import stats\n",
    "result = stats.mannwhitneyu(df_independent[\"A\"], df_independent[\"C\"], alternative='less')\n",
    "\n",
    "U1 = result.statistic\n",
    "U2 = len(df_independent[\"A\"]) * len(df_independent[\"C\"]) - U1\n",
    "\n",
    "print(f\"Test statistics: {result.statistic}\")\n",
    "print(f\"P-value: {result.pvalue}\")"
   ]
  },
  {
   "cell_type": "code",
   "execution_count": 285,
   "id": "04e072d3",
   "metadata": {},
   "outputs": [
    {
     "name": "stdout",
     "output_type": "stream",
     "text": [
      "Mann-Whitney U Test Result: p-value = 0.02818515194903695\n",
      "\n",
      "The obtained p-value is equal to or less than 0.05. There is a statistically significant difference between the two groups.\n",
      "\n"
     ]
    }
   ],
   "source": [
    "p_value = result.pvalue\n",
    "alpha = 0.05\n",
    "\n",
    "if p_value > alpha:\n",
    "    decision = f\"The obtained p-value is greater than {alpha}. There is no statistically significant difference between the two groups.\\n\"\n",
    "else:\n",
    "    decision = f\"The obtained p-value is equal to or less than {alpha}. There is a statistically significant difference between the two groups.\\n\"\n",
    "\n",
    "print(f\"Mann-Whitney U Test Result: p-value = {p_value}\\n\")\n",
    "print(decision)\n"
   ]
  },
  {
   "cell_type": "markdown",
   "id": "d8a31ca9",
   "metadata": {},
   "source": [
    "There is no statistically significant difference between the medians of diet A and diet C."
   ]
  },
  {
   "cell_type": "code",
   "execution_count": null,
   "id": "04d135f2",
   "metadata": {},
   "outputs": [],
   "source": []
  },
  {
   "cell_type": "markdown",
   "id": "789f1f2e",
   "metadata": {},
   "source": [
    "."
   ]
  },
  {
   "cell_type": "markdown",
   "id": "6a43e20d",
   "metadata": {},
   "source": [
    "W;ilcoxon Tests\n",
    "\n",
    "𝐻0: 𝜃A - 𝜃B = 0\n",
    "\n",
    "𝐻1: 𝜃A - 𝜃B > 0"
   ]
  },
  {
   "cell_type": "code",
   "execution_count": 286,
   "id": "57d6b569",
   "metadata": {},
   "outputs": [
    {
     "data": {
      "text/plain": [
       "WilcoxonResult(statistic=23.0, pvalue=0.078125)"
      ]
     },
     "execution_count": 286,
     "metadata": {},
     "output_type": "execute_result"
    }
   ],
   "source": [
    "from scipy.stats import wilcoxon\n",
    "wilcoxon_result = stats.wilcoxon(df_dependent['A'], df_dependent['B'], alternative = 'greater',  method='exact', correction=True)\n",
    "wilcoxon_result"
   ]
  },
  {
   "cell_type": "code",
   "execution_count": 287,
   "id": "65162477",
   "metadata": {},
   "outputs": [
    {
     "name": "stdout",
     "output_type": "stream",
     "text": [
      "Wilcoxon Test Result: p-value = 0.078125\n",
      "\n",
      "The obtained p-value is greater than 0.05. There is no statistically significant difference between the two groups.\n",
      "\n"
     ]
    }
   ],
   "source": [
    "wilcoxon_p_value = wilcoxon_result.pvalue\n",
    "alpha_wilcoxon = 0.05\n",
    "\n",
    "if wilcoxon_p_value > alpha_wilcoxon:\n",
    "    wilcoxon_decision = f\"The obtained p-value is greater than {alpha_wilcoxon}. There is no statistically significant difference between the two groups.\\n\"\n",
    "else:\n",
    "    wilcoxon_decision = f\"The obtained p-value is equal to or less than {alpha_wilcoxon}. There is a statistically significant difference between the two groups.\\n\"\n",
    "\n",
    "print(f\"Wilcoxon Test Result: p-value = {wilcoxon_p_value}\\n\")\n",
    "print(wilcoxon_decision)\n"
   ]
  },
  {
   "cell_type": "markdown",
   "id": "7189c03b",
   "metadata": {},
   "source": [
    "It cannot be said that the number of lotion bottles sold in brand A is more than the number of lotion bottles sold in brand B."
   ]
  },
  {
   "cell_type": "markdown",
   "id": "8e793ad5",
   "metadata": {},
   "source": [
    "."
   ]
  },
  {
   "cell_type": "markdown",
   "id": "830f4a03",
   "metadata": {},
   "source": [
    "Bağımsız K Örneklem Konum Testi\n",
    "\n",
    "𝐻0: 𝜃1 = 𝜃2 = 𝜃3 \n",
    "\n",
    "𝐻1: 𝜃𝑖 ≠ 𝜃𝑗 (At least one pair differs.)\n"
   ]
  },
  {
   "cell_type": "code",
   "execution_count": 288,
   "id": "119827bc",
   "metadata": {},
   "outputs": [
    {
     "data": {
      "text/plain": [
       "KruskalResult(statistic=6.138031594352627, pvalue=0.04646686517954499)"
      ]
     },
     "execution_count": 288,
     "metadata": {},
     "output_type": "execute_result"
    }
   ],
   "source": [
    "from scipy.stats import kruskal\n",
    "result = stats.kruskal(df_independent[\"A\"], df_independent[\"B\"], df_independent[\"C\"])\n",
    "result"
   ]
  },
  {
   "cell_type": "code",
   "execution_count": 289,
   "id": "438249c2",
   "metadata": {},
   "outputs": [
    {
     "name": "stdout",
     "output_type": "stream",
     "text": [
      "Kruskal-Wallis Test Sonucu: p-value = 0.04646686517954499\n",
      "\n",
      "Elde edilen p değeri 0.05'e eşit veya daha küçüktür. Gruplar arasında istatistiksel olarak anlamlı bir farklılık bulunmaktadır.\n",
      "\n"
     ]
    }
   ],
   "source": [
    "kruskal_p_value = result.pvalue\n",
    "alpha_kruskal = 0.05\n",
    "\n",
    "if kruskal_p_value > alpha_kruskal:\n",
    "    kruskal_decision = f\"Elde edilen p değeri {alpha_kruskal}'ten büyüktür. Gruplar arasında istatistiksel olarak anlamlı bir farklılık bulunmamaktadır.\\n\"\n",
    "else:\n",
    "    kruskal_decision = f\"Elde edilen p değeri {alpha_kruskal}'e eşit veya daha küçüktür. Gruplar arasında istatistiksel olarak anlamlı bir farklılık bulunmaktadır.\\n\"\n",
    "\n",
    "print(f\"Kruskal-Wallis Test Sonucu: p-value = {kruskal_p_value}\\n\")\n",
    "print(kruskal_decision)"
   ]
  },
  {
   "cell_type": "markdown",
   "id": "7559b697",
   "metadata": {},
   "source": [
    "There is a statistically significant difference between diets A, B and C."
   ]
  },
  {
   "cell_type": "markdown",
   "id": "e7462d9e",
   "metadata": {},
   "source": [
    "Post-hoc tests are used to find the difference between the groups."
   ]
  },
  {
   "cell_type": "code",
   "execution_count": 290,
   "id": "a7bb2da3",
   "metadata": {},
   "outputs": [
    {
     "name": "stdout",
     "output_type": "stream",
     "text": [
      "Kruskal-Wallis Test Statistic: 6.138031594352627\n",
      "P-value: 0.04646686517954499\n",
      "\n",
      "Dunn's Post-Hoc Test Results:\n",
      "          A         B         C\n",
      "A  1.000000  0.853725  0.040614\n",
      "B  0.853725  1.000000  0.025627\n",
      "C  0.040614  0.025627  1.000000\n"
     ]
    }
   ],
   "source": [
    "from scikit_posthocs import posthoc_dunn\n",
    "# https://www.theanalysisfactor.com/dunns-test-post-hoc-test-after-kruskal-wallis/\n",
    "\n",
    "kruskal_stat, p_value = kruskal(df_independent['A'], df_independent['B'], df_independent['C'])\n",
    "\n",
    "posthoc_dunn_result = posthoc_dunn(df_independent.melt(value_name='value', var_name='groups'), val_col='value', group_col='groups')\n",
    "\n",
    "print(\"Kruskal-Wallis Test Statistic:\", kruskal_stat)\n",
    "print(\"P-value:\", p_value)\n",
    "print(\"\\nDunn's Post-Hoc Test Results:\")\n",
    "print(posthoc_dunn_result)"
   ]
  },
  {
   "cell_type": "markdown",
   "id": "9cfdf93c",
   "metadata": {},
   "source": [
    "There is a significant difference between diets A-C and B-C at 95% confidence level."
   ]
  },
  {
   "cell_type": "markdown",
   "id": "d6ed769f",
   "metadata": {},
   "source": [
    "."
   ]
  },
  {
   "cell_type": "markdown",
   "id": "b8e0f3f1",
   "metadata": {},
   "source": [
    "Friedman tes\n",
    "\n",
    "𝐻0: 𝜃1 = 𝜃2 = 𝜃3 = 𝜃4 = 𝜃5\n",
    "    \n",
    "𝐻1: 𝜃𝑖 ≠ 𝜃𝑗 (At least one pair differs.)\n"
   ]
  },
  {
   "cell_type": "code",
   "execution_count": 291,
   "id": "b1a4286d",
   "metadata": {},
   "outputs": [
    {
     "data": {
      "text/plain": [
       "FriedmanchisquareResult(statistic=8.328358208955212, pvalue=0.08026409058182589)"
      ]
     },
     "execution_count": 291,
     "metadata": {},
     "output_type": "execute_result"
    }
   ],
   "source": [
    "from scipy.stats import friedmanchisquare\n",
    "result = stats.friedmanchisquare(df_dependent[\"A\"], df_dependent[\"B\"], df_dependent[\"C\"], df_dependent[\"D\"], df_dependent[\"E\"])\n",
    "result"
   ]
  },
  {
   "cell_type": "code",
   "execution_count": 292,
   "id": "725f9eec",
   "metadata": {},
   "outputs": [
    {
     "name": "stdout",
     "output_type": "stream",
     "text": [
      "Friedman Test Result: p-value = 0.08026409058182589\n",
      "\n",
      "The obtained p-value is greater than 0.05. There is no statistically significant difference between the groups.\n",
      "\n"
     ]
    }
   ],
   "source": [
    "friedman_p_value = result.pvalue\n",
    "alpha_friedman = 0.05\n",
    "\n",
    "if friedman_p_value > alpha_friedman:\n",
    "    friedman_decision = f\"The obtained p-value is greater than {alpha_friedman}. There is no statistically significant difference between the groups.\\n\"\n",
    "else:\n",
    "    friedman_decision = f\"The obtained p-value is equal to or less than {alpha_friedman}. There is a statistically significant difference between the groups.\\n\"\n",
    "\n",
    "print(f\"Friedman Test Result: p-value = {friedman_p_value}\\n\")\n",
    "print(friedman_decision)\n"
   ]
  },
  {
   "cell_type": "markdown",
   "id": "2ef9e3d1",
   "metadata": {},
   "source": [
    "There is no need for a post-hoc test, but the results are given below in order to see the results in post-hoc tests."
   ]
  },
  {
   "cell_type": "code",
   "execution_count": 293,
   "id": "2cfe606e",
   "metadata": {},
   "outputs": [
    {
     "name": "stdout",
     "output_type": "stream",
     "text": [
      "Friedman Test Statistic: 8.328358208955212\n",
      "P-value: 0.08026409058182589\n",
      "\n",
      "Dunn's Post-Hoc Test Results:\n",
      "          A         B         C         D         E\n",
      "A  1.000000  0.694977  0.814002  0.628668  0.637975\n",
      "B  0.694977  1.000000  0.875368  0.381186  0.388334\n",
      "C  0.814002  0.875368  1.000000  0.472222  0.480314\n",
      "D  0.628668  0.381186  0.472222  1.000000  0.989572\n",
      "E  0.637975  0.388334  0.480314  0.989572  1.000000\n"
     ]
    }
   ],
   "source": [
    "from scikit_posthocs import posthoc_dunn\n",
    "\n",
    "friedman_stat, p_value_friedman = friedmanchisquare(df_dependent['A'], df_dependent['B'],\n",
    "                                                    df_dependent['C'], df_dependent['D'],\n",
    "                                                    df_dependent['E'])\n",
    "\n",
    "posthoc_dunn_result_friedman = posthoc_dunn(df_dependent.melt(value_name='value', var_name='groups'),\n",
    "                                             val_col='value', group_col='groups')\n",
    "\n",
    "print(\"Friedman Test Statistic:\", friedman_stat)\n",
    "print(\"P-value:\", p_value_friedman)\n",
    "print(\"\\nDunn's Post-Hoc Test Results:\")\n",
    "print(posthoc_dunn_result_friedman)"
   ]
  },
  {
   "cell_type": "markdown",
   "id": "f88163e5",
   "metadata": {},
   "source": [
    "As can be understood from the results here, it cannot be said that there is no difference between the groups."
   ]
  },
  {
   "cell_type": "code",
   "execution_count": null,
   "id": "f5549e92",
   "metadata": {},
   "outputs": [],
   "source": []
  },
  {
   "cell_type": "markdown",
   "id": "d9e20d45",
   "metadata": {},
   "source": [
    "Mann-Kendall Test"
   ]
  },
  {
   "cell_type": "markdown",
   "id": "303bb304",
   "metadata": {},
   "source": [
    "Ho : There is no trend\n",
    "    \n",
    "Hs : There is a trend / There is an increasing trend / There is a decreasing trend "
   ]
  },
  {
   "cell_type": "code",
   "execution_count": 294,
   "id": "6f9c14f4",
   "metadata": {},
   "outputs": [
    {
     "name": "stdout",
     "output_type": "stream",
     "text": [
      "Mann_Kendall_Test(trend='increasing', h=True, p=0.0, z=10.347696957557925, Tau=1.0, s=1275.0, var_s=15158.333333333334, slope=0.8374545454545451, intercept=31.511636363636374)\n"
     ]
    }
   ],
   "source": [
    "import pandas as pd\n",
    "import pymannkendall as mk\n",
    "## https://pypi.org/project/pymannkendall/\n",
    "\n",
    "result = mk.original_test(df_trend[\"Urban population (% of total population)\"], alpha=0.05)\n",
    "print(result)"
   ]
  },
  {
   "cell_type": "code",
   "execution_count": 295,
   "id": "4b6d7e22",
   "metadata": {},
   "outputs": [
    {
     "name": "stdout",
     "output_type": "stream",
     "text": [
      "Mann-Kendall Test Result: There is an increasing trend.\n",
      "The obtained p-value is equal to or less than 0.05. There is a statistically significant relationship.\n"
     ]
    }
   ],
   "source": [
    "trend_type = result.trend  \n",
    "\n",
    "if trend_type == 'increasing':\n",
    "    kendall_decision = \"Mann-Kendall Test Result: There is an increasing trend.\"\n",
    "elif trend_type == 'decreasing':\n",
    "    kendall_decision = \"Mann-Kendall Test Result: There is a decreasing trend.\"\n",
    "else:\n",
    "    kendall_decision = \"Mann-Kendall Test Result: There is no trend.\"\n",
    "\n",
    "kendall_p_value = result.p  \n",
    "alpha_kendall = 0.05\n",
    "\n",
    "if kendall_p_value > alpha_kendall:\n",
    "    kendall_decision += f\"\\nThe obtained p-value is greater than {alpha_kendall}. There is no statistically significant relationship.\"\n",
    "else:\n",
    "    kendall_decision += f\"\\nThe obtained p-value is equal to or less than {alpha_kendall}. There is a statistically significant relationship.\"\n",
    "\n",
    "print(kendall_decision)\n"
   ]
  },
  {
   "cell_type": "markdown",
   "id": "90e68035",
   "metadata": {},
   "source": [
    "."
   ]
  },
  {
   "cell_type": "code",
   "execution_count": null,
   "id": "88a952a5",
   "metadata": {},
   "outputs": [],
   "source": []
  },
  {
   "cell_type": "code",
   "execution_count": null,
   "id": "25084da2",
   "metadata": {},
   "outputs": [],
   "source": []
  },
  {
   "cell_type": "code",
   "execution_count": null,
   "id": "d9481e42",
   "metadata": {},
   "outputs": [],
   "source": []
  }
 ],
 "metadata": {
  "kernelspec": {
   "display_name": "Python 3 (ipykernel)",
   "language": "python",
   "name": "python3"
  },
  "language_info": {
   "codemirror_mode": {
    "name": "ipython",
    "version": 3
   },
   "file_extension": ".py",
   "mimetype": "text/x-python",
   "name": "python",
   "nbconvert_exporter": "python",
   "pygments_lexer": "ipython3",
   "version": "3.9.12"
  }
 },
 "nbformat": 4,
 "nbformat_minor": 5
}
